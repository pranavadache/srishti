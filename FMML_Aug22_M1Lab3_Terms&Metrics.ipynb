{
  "nbformat": 4,
  "nbformat_minor": 0,
  "metadata": {
    "colab": {
      "provenance": [],
      "include_colab_link": true
    },
    "kernelspec": {
      "name": "python3",
      "display_name": "Python 3"
    },
    "language_info": {
      "name": "python"
    }
  },
  "cells": [
    {
      "cell_type": "markdown",
      "metadata": {
        "id": "view-in-github",
        "colab_type": "text"
      },
      "source": [
        "<a href=\"https://colab.research.google.com/github/pranavadache/srishti/blob/main/FMML_Aug22_M1Lab3_Terms%26Metrics.ipynb\" target=\"_parent\"><img src=\"https://colab.research.google.com/assets/colab-badge.svg\" alt=\"Open In Colab\"/></a>"
      ]
    },
    {
      "cell_type": "markdown",
      "metadata": {
        "id": "3Eu9VZbF01eq"
      },
      "source": [
        "# Machine learning terms and metrics\n",
        "\n",
        "FMML Module 1, Lab 3<br>\n",
        "Module Coordinator: Amit Pandey amit.pandey@research.iiit.ac.in <br>\n",
        "<br>\n",
        "\n",
        " In this lab, we will show a part of the ML pipeline by extracting features, training and testing. We will also explore how data augmentation affects accuracy."
      ]
    },
    {
      "cell_type": "code",
      "metadata": {
        "id": "8qBvyEem0vLi"
      },
      "source": [
        "import matplotlib.pyplot as plt\n",
        "import numpy as np\n",
        "from sklearn import datasets\n",
        "# set randomseed\n",
        "rng = np.random.default_rng(seed=42)"
      ],
      "execution_count": null,
      "outputs": []
    },
    {
      "cell_type": "markdown",
      "metadata": {
        "id": "u3t59g5s1HfC"
      },
      "source": [
        "In this lab, we will use the California Housing dataset. There are 20640 samples, each with 8 attributes like income of the block, age of the houses per district etc. The task is to predict the cost of the houses per district. \n",
        "\n",
        "Let us download and examine the dataset. "
      ]
    },
    {
      "cell_type": "code",
      "metadata": {
        "id": "8LpqjN991GGJ",
        "colab": {
          "base_uri": "https://localhost:8080/"
        },
        "outputId": "bfb84e75-0a6e-4c80-be77-066fdfe9ca9c"
      },
      "source": [
        " dataset =  datasets.fetch_california_housing()\n",
        " # print(dataset.DESCR)  # uncomment this if you want to know more about this dataset\n",
        " # print(dataset.keys())  # if you want to know what else is there in this dataset\n",
        " dataset.target = dataset.target.astype(np.int) # so that we can classify\n",
        " print(dataset.data.shape)\n",
        " print(dataset.target.shape)"
      ],
      "execution_count": null,
      "outputs": [
        {
          "output_type": "stream",
          "name": "stdout",
          "text": [
            "(20640, 8)\n",
            "(20640,)\n"
          ]
        },
        {
          "output_type": "stream",
          "name": "stderr",
          "text": [
            "/usr/local/lib/python3.7/dist-packages/ipykernel_launcher.py:4: DeprecationWarning: `np.int` is a deprecated alias for the builtin `int`. To silence this warning, use `int` by itself. Doing this will not modify any behavior and is safe. When replacing `np.int`, you may wish to use e.g. `np.int64` or `np.int32` to specify the precision. If you wish to review your current use, check the release note link for additional information.\n",
            "Deprecated in NumPy 1.20; for more details and guidance: https://numpy.org/devdocs/release/1.20.0-notes.html#deprecations\n",
            "  after removing the cwd from sys.path.\n"
          ]
        }
      ]
    },
    {
      "cell_type": "markdown",
      "metadata": {
        "id": "iNx4174W5xRg"
      },
      "source": [
        "Here is a function for calculating the 1-nearest neighbours"
      ]
    },
    {
      "cell_type": "code",
      "source": [
        "type(dataset), dataset.DESCR"
      ],
      "metadata": {
        "colab": {
          "base_uri": "https://localhost:8080/"
        },
        "id": "ut5lj4HsaTfp",
        "outputId": "acfaa3ae-9749-412d-9c81-05845c5dfccc"
      },
      "execution_count": null,
      "outputs": [
        {
          "output_type": "execute_result",
          "data": {
            "text/plain": [
              "(sklearn.utils.Bunch,\n",
              " '.. _california_housing_dataset:\\n\\nCalifornia Housing dataset\\n--------------------------\\n\\n**Data Set Characteristics:**\\n\\n    :Number of Instances: 20640\\n\\n    :Number of Attributes: 8 numeric, predictive attributes and the target\\n\\n    :Attribute Information:\\n        - MedInc        median income in block group\\n        - HouseAge      median house age in block group\\n        - AveRooms      average number of rooms per household\\n        - AveBedrms     average number of bedrooms per household\\n        - Population    block group population\\n        - AveOccup      average number of household members\\n        - Latitude      block group latitude\\n        - Longitude     block group longitude\\n\\n    :Missing Attribute Values: None\\n\\nThis dataset was obtained from the StatLib repository.\\nhttps://www.dcc.fc.up.pt/~ltorgo/Regression/cal_housing.html\\n\\nThe target variable is the median house value for California districts,\\nexpressed in hundreds of thousands of dollars ($100,000).\\n\\nThis dataset was derived from the 1990 U.S. census, using one row per census\\nblock group. A block group is the smallest geographical unit for which the U.S.\\nCensus Bureau publishes sample data (a block group typically has a population\\nof 600 to 3,000 people).\\n\\nAn household is a group of people residing within a home. Since the average\\nnumber of rooms and bedrooms in this dataset are provided per household, these\\ncolumns may take surpinsingly large values for block groups with few households\\nand many empty houses, such as vacation resorts.\\n\\nIt can be downloaded/loaded using the\\n:func:`sklearn.datasets.fetch_california_housing` function.\\n\\n.. topic:: References\\n\\n    - Pace, R. Kelley and Ronald Barry, Sparse Spatial Autoregressions,\\n      Statistics and Probability Letters, 33 (1997) 291-297\\n')"
            ]
          },
          "metadata": {},
          "execution_count": 3
        }
      ]
    },
    {
      "cell_type": "code",
      "metadata": {
        "id": "07zpydQj1hIQ",
        "outputId": "3e2f4124-d840-4e4c-8ba0-e5f80a20e3ac",
        "colab": {
          "base_uri": "https://localhost:8080/"
        }
      },
      "source": [
        "def NN1(traindata, trainlabel, query):\n",
        "  diff  = traindata - query  # find the difference between features. Numpy automatically takes care of the size here \n",
        "  sq = diff*diff # square the differences\n",
        "  dist = sq.sum(1) # add up the squares\n",
        "  label = trainlabel[np.argmin(dist)] # our predicted label is the label of the training data which has the least distance from the query\n",
        "  return label\n",
        "\n",
        "def NN(traindata, trainlabel, testdata):\n",
        "  # we will run nearest neighbour for each sample in the test data \n",
        "  # and collect the predicted classes in an array using list comprehension\n",
        "  predlabel = np.array([NN1(traindata, trainlabel, i) for i in testdata])\n",
        "  return predlabel\n",
        "\n",
        "\n",
        "\n",
        "5,5\n",
        "6,6\n",
        "8,9\n",
        "\n",
        "\n",
        "0,0"
      ],
      "execution_count": null,
      "outputs": [
        {
          "output_type": "execute_result",
          "data": {
            "text/plain": [
              "(0, 0)"
            ]
          },
          "metadata": {},
          "execution_count": 4
        }
      ]
    },
    {
      "cell_type": "markdown",
      "metadata": {
        "id": "03JktkfIGaje"
      },
      "source": [
        "We will also define a 'random classifier', which randomly allots labels to each sample"
      ]
    },
    {
      "cell_type": "code",
      "metadata": {
        "id": "fogWAtjyGhAH"
      },
      "source": [
        "def RandomClassifier(traindata, trainlabel, testdata):\n",
        "  # in reality, we don't need these arguments\n",
        "\n",
        "  classes = np.unique(trainlabel)\n",
        "  rints = rng.integers(low=0, high=len(classes), size=len(testdata))\n",
        "  predlabel = classes[rints]\n",
        "  return predlabel"
      ],
      "execution_count": null,
      "outputs": []
    },
    {
      "cell_type": "markdown",
      "metadata": {
        "id": "1Hjf1KHs7fU5"
      },
      "source": [
        "Let us define a metric 'Accuracy' to see how good our learning algorithm is. Accuracy is the ratio of the number of correctly classified samples to the total number of samples. The higher the accuracy, the better the algorithm. "
      ]
    },
    {
      "cell_type": "code",
      "metadata": {
        "id": "ouuCqWU07bz-"
      },
      "source": [
        "def Accuracy(gtlabel, predlabel):\n",
        "  assert len(gtlabel)==len(predlabel), \"Length of the groundtruth labels and predicted labels should be the same\"\n",
        "  correct = (gtlabel==predlabel).sum() # count the number of times the groundtruth label is equal to the predicted label.\n",
        "  return correct/len(gtlabel)"
      ],
      "execution_count": null,
      "outputs": []
    },
    {
      "cell_type": "markdown",
      "metadata": {
        "id": "4vJFwBFa9Klw"
      },
      "source": [
        "Let us make a function to split the dataset with the desired probability."
      ]
    },
    {
      "cell_type": "code",
      "metadata": {
        "id": "Ko0VzpSM2Tdi"
      },
      "source": [
        "def split(data, label, percent):\n",
        "  # generate a random number for each sample\n",
        "  rnd = rng.random(len(label))\n",
        "  split1 = rnd<percent\n",
        "  split2 = rnd>=percent\n",
        "  split1data = data[split1,:]\n",
        "  split1label = label[split1]\n",
        "  split2data = data[split2,:]\n",
        "  split2label = label[split2]\n",
        "  return split1data, split1label, split2data, split2label"
      ],
      "execution_count": null,
      "outputs": []
    },
    {
      "cell_type": "markdown",
      "metadata": {
        "id": "AcK3LEAJ_LGC"
      },
      "source": [
        "We will reserve 20% of our dataset as the test set. We will not change this portion throughout our experiments"
      ]
    },
    {
      "cell_type": "code",
      "metadata": {
        "id": "bBZkHBLJ1iU-",
        "colab": {
          "base_uri": "https://localhost:8080/"
        },
        "outputId": "54a031f1-096a-44a4-e2a7-d6ae5f52f06a"
      },
      "source": [
        "testdata, testlabel, alltraindata, alltrainlabel = split(dataset.data, dataset.target, 20/100)\n",
        "print('Number of test samples = ', len(testlabel))\n",
        "print('Number of other samples = ', len(alltrainlabel))\n",
        "print('Percent of test data = ', len(testlabel)*100/len(dataset.target),'%')"
      ],
      "execution_count": null,
      "outputs": [
        {
          "output_type": "stream",
          "name": "stdout",
          "text": [
            "Number of test samples =  4144\n",
            "Number of other samples =  16496\n",
            "Percent of test data =  20.07751937984496 %\n"
          ]
        }
      ]
    },
    {
      "cell_type": "markdown",
      "metadata": {
        "id": "a6Ss0Z6IAGNV"
      },
      "source": [
        "## Experiments with splits\n",
        "\n",
        "Let us reserve some of our train data as a validation set"
      ]
    },
    {
      "cell_type": "code",
      "metadata": {
        "id": "WFew2iry_7W7"
      },
      "source": [
        "traindata, trainlabel, valdata, vallabel = split(alltraindata, alltrainlabel, 75/100)"
      ],
      "execution_count": null,
      "outputs": []
    },
    {
      "cell_type": "markdown",
      "metadata": {
        "id": "60hiu4clFN1i"
      },
      "source": [
        "What is the accuracy of our classifiers on the train dataset?"
      ]
    },
    {
      "cell_type": "code",
      "metadata": {
        "id": "DBlZDTHUFTZx",
        "colab": {
          "base_uri": "https://localhost:8080/"
        },
        "outputId": "ed6bfd3d-374e-4591-d70b-1b5e44d144e0"
      },
      "source": [
        "trainpred = NN(traindata, trainlabel, traindata)\n",
        "trainAccuracy = Accuracy(trainlabel, trainpred)\n",
        "print(\"Train accuracy using nearest neighbour is \", trainAccuracy)\n",
        "\n",
        "trainpred = RandomClassifier(traindata, trainlabel, traindata)\n",
        "trainAccuracy = Accuracy(trainlabel, trainpred)\n",
        "print(\"Train accuracy using random classifier is \", trainAccuracy)"
      ],
      "execution_count": null,
      "outputs": [
        {
          "output_type": "stream",
          "name": "stdout",
          "text": [
            "Train accuracy using nearest neighbour is  1.0\n",
            "Train accuracy using random classifier is  0.17205692108667528\n"
          ]
        }
      ]
    },
    {
      "cell_type": "code",
      "source": [
        "def NN1(traindata, trainlabel, query):\n",
        "  diff  = traindata - query  # find the difference between features. Numpy automatically takes care of the size here \n",
        "  sq = diff*diff # square the differences\n",
        "  dist = sq.sum(1) # add up the squares\n",
        "  label = trainlabel[np.argmin(dist)] # our predicted label is the label of the training data which has the least distance from the query\n",
        "  return label\n",
        "\n",
        "def NN(traindata, trainlabel, testdata):\n",
        "  # we will run nearest neighbour for each sample in the test data \n",
        "  # and collect the predicted classes in an array using list comprehension\n",
        "  predlabel = np.array([NN1(traindata, trainlabel, i) for i in testdata])\n",
        "  return predlabel\n",
        "\n",
        "\n",
        "\n"
      ],
      "metadata": {
        "id": "jnMblJyaXKZZ"
      },
      "execution_count": null,
      "outputs": []
    },
    {
      "cell_type": "markdown",
      "source": [
        "## Interesting: See how train accuracy of nearest neighbour is 1 i.e. 100%. Ponder and Explain."
      ],
      "metadata": {
        "id": "tW_I-YuhbQqA"
      }
    },
    {
      "cell_type": "markdown",
      "metadata": {
        "id": "7h08-9gJDtSy"
      },
      "source": [
        "For nearest neighbour, the train accuracy is always 1. The accuracy of the random classifier is close to 1/(number of classes) which is 0.1666 in our case.\n",
        "\n",
        "Let us predict the labels for our validation set and get the accuracy"
      ]
    },
    {
      "cell_type": "code",
      "metadata": {
        "id": "4h7bXoW_2H3v",
        "colab": {
          "base_uri": "https://localhost:8080/"
        },
        "outputId": "aecca2f6-f219-4fcb-cba0-7cfbb5b56aa0"
      },
      "source": [
        "valpred = NN(traindata, trainlabel, valdata)\n",
        "valAccuracy = Accuracy(vallabel, valpred)\n",
        "print(\"Validation accuracy using nearest neighbour is \", valAccuracy)\n",
        "\n",
        "valpred = RandomClassifier(traindata, trainlabel, valdata)\n",
        "valAccuracy = Accuracy(vallabel, valpred)\n",
        "print(\"Validation accuracy using random classifier is \", valAccuracy)"
      ],
      "execution_count": null,
      "outputs": [
        {
          "output_type": "stream",
          "name": "stdout",
          "text": [
            "Validation accuracy using nearest neighbour is  0.34108527131782945\n",
            "Validation accuracy using random classifier is  0.1686046511627907\n"
          ]
        }
      ]
    },
    {
      "cell_type": "markdown",
      "metadata": {
        "id": "py9bLguFEjfg"
      },
      "source": [
        "Validation accuracy of nearest neighbour is considerably less than its train accuracy while the validation accuracy of random classifier is the same. However, the validation accuracy of nearest neighbour is twice that of the random classifier. \n",
        "\n",
        "Now let us try another random split and check the validation accuracy"
      ]
    },
    {
      "cell_type": "code",
      "metadata": {
        "id": "ujm3cyYzEntE",
        "colab": {
          "base_uri": "https://localhost:8080/"
        },
        "outputId": "568441f7-f693-4b4a-cc07-198eb2392c22"
      },
      "source": [
        "traindata, trainlabel, valdata, vallabel = split(alltraindata, alltrainlabel, 75/100)\n",
        "valpred = NN(traindata, trainlabel, valdata)\n",
        "valAccuracy = Accuracy(vallabel, valpred)\n",
        "print(\"Validation accuracy of nearest neighbour is \", valAccuracy)"
      ],
      "execution_count": null,
      "outputs": [
        {
          "output_type": "stream",
          "name": "stdout",
          "text": [
            "Validation accuracy of nearest neighbour is  0.3395999035912268\n"
          ]
        }
      ]
    },
    {
      "cell_type": "markdown",
      "metadata": {
        "id": "oSOx7U83EKie"
      },
      "source": [
        "You can run the above cell multiple times to try with different random splits. \n",
        "We notice that the accuracy is different for each run, but close together. \n",
        "\n",
        "Now let us compare it with the accuracy we get on the test dataset. "
      ]
    },
    {
      "cell_type": "code",
      "metadata": {
        "id": "PNEZ5ToYBEDW",
        "colab": {
          "base_uri": "https://localhost:8080/"
        },
        "outputId": "dbbbc1a9-3571-4dce-9f54-b7848cca0387"
      },
      "source": [
        "testpred = NN(alltraindata, alltrainlabel, testdata)\n",
        "testAccuracy = Accuracy(testlabel, testpred)\n",
        "print('Test accuracy is ', testAccuracy)"
      ],
      "execution_count": null,
      "outputs": [
        {
          "output_type": "stream",
          "name": "stdout",
          "text": [
            "Test accuracy is  0.34917953667953666\n"
          ]
        }
      ]
    },
    {
      "cell_type": "markdown",
      "metadata": {
        "id": "w3dGD531K3gH"
      },
      "source": [
        "### Try it out for yourself and answer:\n",
        "1. How is the accuracy of the validation set affected if we increase the percentage of validation set? What happens when we reduce it?\n",
        "2. How does the size of the train and validation set affect how well we can predict the accuracy on the test set using the validation set?\n",
        "3. What do you think is a good percentage to reserve for the validation set so that thest two factors are balanced? \n",
        "\n",
        "Answer for both nearest neighbour and random classifier. You can note down the values for your experiments and plot a graph using  <a href=https://matplotlib.org/stable/gallery/lines_bars_and_markers/step_demo.html#sphx-glr-gallery-lines-bars-and-markers-step-demo-py>plt.plot<href>. Check also for extreme values for splits, like 99.9% or 0.1%"
      ]
    },
    {
      "cell_type": "markdown",
      "source": [
        "# **ANSWER FOR QUESTION:01**"
      ],
      "metadata": {
        "id": "NaII2AdFwcJR"
      }
    },
    {
      "cell_type": "code",
      "source": [
        "def findPoints(low, high, diff):\n",
        "  accuracyNN = []\n",
        "  accuracyRandom = []\n",
        "  datasize = []\n",
        "  for i in range(low, high, diff):\n",
        "    datasize.append(100-i)\n",
        "    traindata, trainlabel, valdata, vallabel = split(alltraindata, alltrainlabel, i/100)\n",
        "\n",
        "    valPredNN = NN(traindata, trainlabel, valdata)\n",
        "    valAccuracyNN = Accuracy(vallabel, valPredNN)\n",
        "    accuracyNN.append(valAccuracyNN)\n",
        "\n",
        "    valPredRandom = RandomClassifier(traindata, trainlabel, valdata)\n",
        "    valAccuracyRandom = Accuracy(vallabel, valPredRandom)\n",
        "    accuracyRandom.append(valAccuracyRandom)\n",
        "\n",
        "  return accuracyNN, accuracyRandom, datasize\n"
      ],
      "metadata": {
        "id": "ap-CI9WTwogU"
      },
      "execution_count": null,
      "outputs": []
    },
    {
      "cell_type": "code",
      "source": [
        "#for different values of validation size lets see the accuracy\n",
        "accuracyNN, accuracyRandom, valdatasize = findPoints(1,100, 5)"
      ],
      "metadata": {
        "id": "Z8Aqukw1wzIW"
      },
      "execution_count": null,
      "outputs": []
    },
    {
      "cell_type": "code",
      "source": [
        "plt.figure(figsize=(12,6),dpi = 80)\n",
        "plt.subplot(1,2,1)\n",
        "plt.scatter(valdatasize, accuracyNN)\n",
        "plt.plot(valdatasize, accuracyNN)\n",
        "plt.title(\"Validation data size VS Validation Accuracy\\n for NN Classifier\")\n",
        "plt.xlabel(\"Validation data size\")\n",
        "plt.ylabel(\"Validation Accuracy\")\n",
        "\n",
        "plt.subplot(1,2,2)\n",
        "plt.scatter(valdatasize, accuracyRandom)\n",
        "plt.plot(valdatasize, accuracyRandom)\n",
        "plt.title(\"Validation data size VS Validation Accuracy\\n for Random Classifier\")\n",
        "plt.xlabel(\"Validation data size\")\n",
        "plt.ylabel(\"Validation Accuracy\")\n",
        "\n",
        "plt.show()"
      ],
      "metadata": {
        "id": "YJcBQPOkxLE0",
        "outputId": "1da2a92f-a65a-4737-8d67-484be8299dcf",
        "colab": {
          "base_uri": "https://localhost:8080/",
          "height": 459
        }
      },
      "execution_count": null,
      "outputs": [
        {
          "output_type": "display_data",
          "data": {
            "text/plain": [
              "<Figure size 960x480 with 2 Axes>"
            ],
            "image/png": "[encoded data removed]"
          },
          "metadata": {
            "needs_background": "light"
          }
        }
      ]
    },
    {
      "cell_type": "markdown",
      "source": [
        "# **ANSWER FOR QUESTION NO:02**"
      ],
      "metadata": {
        "id": "MfiJiTYoxeFs"
      }
    },
    {
      "cell_type": "code",
      "source": [
        "def findPointsVal(low, high, diff):\n",
        "  accuracyNN = []\n",
        "  accuracyRandom = []\n",
        "  datasize = []\n",
        "  for i in range(low, high, diff):\n",
        "    datasize.append(100-i)\n",
        "    traindata, trainlabel, valdata, vallabel = split(alltraindata, alltrainlabel, i/100)\n",
        "\n",
        "    valPredNN = NN(traindata, trainlabel, valdata)\n",
        "    valAccuracyNN = Accuracy(vallabel, valPredNN)\n",
        "    accuracyNN.append(valAccuracyNN)\n",
        "\n",
        "    valPredRandom = RandomClassifier(traindata, trainlabel, valdata)\n",
        "    valAccuracyRandom = Accuracy(vallabel, valPredRandom)\n",
        "    accuracyRandom.append(valAccuracyRandom)\n",
        "\n",
        "  return accuracyNN, accuracyRandom, datasize\n",
        "\n",
        "def findPointsTest(low, high, diff):\n",
        "  accuracyNN = []\n",
        "  accuracyRandom = []\n",
        "  datasize = []\n",
        "  for i in range(low, high, diff):\n",
        "    datasize.append(100-i)\n",
        "    traindata, trainlabel, valdata, vallabel = split(alltraindata, alltrainlabel, i/100)\n",
        "\n",
        "    testPredNN = NN(traindata, trainlabel, testdata)\n",
        "    testAccuracyNN = Accuracy(testlabel, testPredNN)\n",
        "    accuracyNN.append(testAccuracyNN)\n",
        "\n",
        "    testPredRandom = RandomClassifier(traindata, trainlabel, testdata)\n",
        "    testAccuracyRandom = Accuracy(testlabel, testPredRandom)\n",
        "    accuracyRandom.append(testAccuracyRandom)\n",
        "\n",
        "  return accuracyNN, accuracyRandom, datasize\n"
      ],
      "metadata": {
        "id": "cK4mVboExnwd"
      },
      "execution_count": null,
      "outputs": []
    },
    {
      "cell_type": "code",
      "source": [
        "testdata, testlabel, alltraindata, alltrainlabel = split(dataset.data, dataset.target, 20/100)\n"
      ],
      "metadata": {
        "id": "s3nOZ0ESxyQp"
      },
      "execution_count": null,
      "outputs": []
    },
    {
      "cell_type": "code",
      "source": [
        "#for different values of validation size lets see the accuracy\n",
        "testaccuracyNN, testaccuracyRandom, valdatasize = findPointsTest(1,100, 5)\n",
        "valaccuracyNN, valaccuracyRandom, valdatasize = findPointsTest(1,100,5)"
      ],
      "metadata": {
        "id": "_ckAajkryAVV"
      },
      "execution_count": null,
      "outputs": []
    },
    {
      "cell_type": "code",
      "source": [
        "plt.figure(figsize=(12,6),dpi = 80)\n",
        "plt.subplot(1,2,1)\n",
        "plt.scatter(valdatasize, testaccuracyNN)\n",
        "plt.plot(valdatasize, testaccuracyNN, label=\"test accuracy\")\n",
        "plt.scatter(valdatasize, valaccuracyNN)\n",
        "plt.plot(valdatasize, valaccuracyNN, label='val accuracy')\n",
        "plt.legend()\n",
        "plt.title(\"Validation data size plot \\nfor NN Classifier Using Validation set\")\n",
        "plt.xlabel(\"Validation data size\")\n",
        "plt.ylabel(\"Accuracy\")\n",
        "\n",
        "plt.subplot(1,2,2)\n",
        "plt.scatter(valdatasize, testaccuracyRandom)\n",
        "plt.plot(valdatasize, testaccuracyRandom,label=\"test accuracy\")\n",
        "plt.scatter(valdatasize, valaccuracyRandom)\n",
        "plt.plot(valdatasize, valaccuracyRandom,label='val accuracy')\n",
        "plt.title(\"Validation data size plot \\nfor Random Classifier using Validation set\")\n",
        "plt.xlabel(\"Validation data size\")\n",
        "plt.ylabel(\"Accuracy\")\n",
        "plt.legend()\n",
        "plt.show()"
      ],
      "metadata": {
        "id": "8WGlRJAaychd",
        "outputId": "fe24616c-95b1-457c-d25c-df43d25adfcc",
        "colab": {
          "base_uri": "https://localhost:8080/",
          "height": 459
        }
      },
      "execution_count": null,
      "outputs": [
        {
          "output_type": "display_data",
          "data": {
            "text/plain": [
              "<Figure size 960x480 with 2 Axes>"
            ],
            "image/png": "[encoded data removed]"
          },
          "metadata": {
            "needs_background": "light"
          }
        }
      ]
    },
    {
      "cell_type": "markdown",
      "source": [
        "# **ANSWER FOR QUESTION NO:03**"
      ],
      "metadata": {
        "id": "gKiwxkpZywfI"
      }
    },
    {
      "cell_type": "markdown",
      "source": [
        "1.The size of the validation set according to the graphs obtained from the experiment would be 15% of the total training dataset we have. Usually also the values for the validation dataset are made from 10 to 25% of the training data as per the size of the total training data that we have for the experiment.\n",
        "\n",
        "2.The model needs a fairly large dataset for it to be trained well and understand the data features, but it may lead to overfitting of the model so to reduce the chances of overfitting we need a validation set which in itself is small because larger values may lead to overfitting on even the validation dataset itself.\n",
        "\n",
        "3.A very small values of validation dataset less than 10% may be insufficient to serve as a measure to check overfitting or to increase test accuracy"
      ],
      "metadata": {
        "id": "ZKpqHn-HzBG0"
      }
    },
    {
      "cell_type": "markdown",
      "metadata": {
        "id": "PnYvkAZLQY7h"
      },
      "source": [
        "## Multiple Splits\n",
        "\n",
        "One way to get more accurate estimates for the test accuracy is by using <b>crossvalidation</b>. Here, we will try a simple version, where we do multiple train/val splits and take the average of validation accuracies as the test accuracy estimation. Here is a function for doing this. Note that this function will take a long time to execute. "
      ]
    },
    {
      "cell_type": "code",
      "source": [
        "# you can use this function for random classifier also\n",
        "def AverageAccuracy(alldata, alllabel, splitpercent, iterations, classifier=NN):\n",
        "  accuracy = 0\n",
        "  for ii in range(iterations):\n",
        "    traindata, trainlabel, valdata, vallabel = split(alldata, alllabel, splitpercent)\n",
        "    valpred = classifier(traindata, trainlabel, valdata)\n",
        "    accuracy += Accuracy(vallabel, valpred)\n",
        "  return accuracy/iterations # average of all accuracies"
      ],
      "metadata": {
        "id": "rmWcrra5zh6R"
      },
      "execution_count": null,
      "outputs": []
    },
    {
      "cell_type": "code",
      "metadata": {
        "id": "H3qtNar7Bbik",
        "colab": {
          "base_uri": "https://localhost:8080/"
        },
        "outputId": "3bceebce-b9c3-40ea-f779-4241b55301d0"
      },
      "source": [
        "print('Average validation accuracy is ', AverageAccuracy(alltraindata, alltrainlabel, 75/100, 10, classifier=NN))\n",
        "testpred = NN(alltraindata, alltrainlabel, testdata)\n",
        "print('test accuracy is ',Accuracy(testlabel, testpred) )"
      ],
      "execution_count": null,
      "outputs": [
        {
          "output_type": "stream",
          "name": "stdout",
          "text": [
            "Average validation accuracy is  0.3374279535985732\n",
            "test accuracy is  0.3532674222329395\n"
          ]
        }
      ]
    },
    {
      "cell_type": "markdown",
      "metadata": {
        "id": "33GIn4x5VH-d"
      },
      "source": [
        "This is a very simple way of doing cross-validation. There are many well-known algorithms for cross-validation, like k-fold cross-validation, leave-one-out etc. This will be covered in detail in a later module. For more information about cross-validation, check <a href=https://en.wikipedia.org/wiki/Cross-validation_(statistics)>Cross-validatioin (Wikipedia)</a>\n",
        "\n",
        "### Questions\n",
        "1. Does averaging the validation accuracy across multiple splits give more consistent results?\n",
        "2. Does it give more accurate estimate of test accuracy?\n",
        "3. What is the effect of the number of iterations on the estimate? Do we get a better estimate with higher iterations?\n",
        "4. Consider the results you got for the previous questions. Can we deal with a very small train dataset or validation dataset by increasing the iterations?\n"
      ]
    },
    {
      "cell_type": "markdown",
      "source": [
        "# **ANSWER FOR QUESTION NO:01**"
      ],
      "metadata": {
        "id": "0sKdyffrz56Z"
      }
    },
    {
      "cell_type": "markdown",
      "source": [
        "As we know that training the model using the dataset will always give newer results but slight difference in test and validation accuracy. To get a validation accuracy which is an average of certain number of times we trained the model will surely give us good and consistent results. Because the value will be obtained by many different values of accuracy over a number of iteration for which the model is being trained.\n",
        "\n"
      ],
      "metadata": {
        "id": "4jsKx3gT0B4t"
      }
    },
    {
      "cell_type": "markdown",
      "source": [
        "# **ANSWER FOR QUESTION NO:02**"
      ],
      "metadata": {
        "id": "b2HPWJAZ0FgM"
      }
    },
    {
      "cell_type": "markdown",
      "source": [
        "If the average validation accuracy is good than we can say that the model will perform well on the test accuracy. Better the value of validation accuracy better will be the test accuracy. The test accuracy will be lower than validation accuracy but will not abrubtly give great variation in accuracy, until the test data has large variation in values than on which the model is trained."
      ],
      "metadata": {
        "id": "kF2ziTKg0YDh"
      }
    },
    {
      "cell_type": "markdown",
      "source": [
        "# **ANSWER FOR QUESTION NO:03**"
      ],
      "metadata": {
        "id": "HDIhvCc60agA"
      }
    },
    {
      "cell_type": "code",
      "source": [
        "def AverageAccuracy(alldata, alllabel, splitpercent, iterations, classifier=NN):\n",
        "  accuracy = 0\n",
        "  for ii in range(iterations):\n",
        "    traindata, trainlabel, valdata, vallabel = split(alldata, alllabel, splitpercent)\n",
        "    valpred = classifier(traindata, trainlabel, valdata)\n",
        "    accuracy += Accuracy(vallabel, valpred)\n",
        "  return accuracy/iterations\n"
      ],
      "metadata": {
        "id": "FmR_LuVs0sH4"
      },
      "execution_count": null,
      "outputs": []
    },
    {
      "cell_type": "code",
      "source": [
        "def Accuracy(gtlabel, predlabel):\n",
        "  assert len(gtlabel)==len(predlabel), \"Length of the groundtruth labels and predicted labels should be the same\"\n",
        "  correct = (gtlabel==predlabel).sum() # count the number of times the groundtruth label is equal to the predicted label.\n",
        "  return correct/len(gtlabel)\n"
      ],
      "metadata": {
        "id": "N2HVyAYW02IQ"
      },
      "execution_count": null,
      "outputs": []
    },
    {
      "cell_type": "code",
      "source": [
        "def getAccuracyDetails(iterationVal):\n",
        "  accValData = []\n",
        "  accTestData = []\n",
        "  iterations = []\n",
        "  for i in range(10, iterationVal, 10):\n",
        "    print('Predicting for Iteration ', i)\n",
        "    avgValAccuracy = AverageAccuracy(alltraindata, alltrainlabel, 75/100, i, classifier = NN)\n",
        "    testPred = NN(alltraindata, alltrainlabel, testdata)\n",
        "    avgTestAccuracy = Accuracy(testlabel, testPred)\n",
        "    iterations.append(i)\n",
        "    accValData.append(avgValAccuracy)\n",
        "    accTestData.append(avgTestAccuracy)\n",
        "  return iterations, accValData, accTestData"
      ],
      "metadata": {
        "id": "rVqxa_Qh1AuA"
      },
      "execution_count": null,
      "outputs": []
    },
    {
      "cell_type": "code",
      "source": [
        "iterations, accValData, accTestData = getAccuracyDetails(51)"
      ],
      "metadata": {
        "id": "_Z45-Vvx1JFQ",
        "outputId": "99174f55-3535-427f-b039-04f11b8aac2a",
        "colab": {
          "base_uri": "https://localhost:8080/"
        }
      },
      "execution_count": null,
      "outputs": [
        {
          "output_type": "stream",
          "name": "stdout",
          "text": [
            "Predicting for Iteration  10\n",
            "Predicting for Iteration  20\n",
            "Predicting for Iteration  30\n",
            "Predicting for Iteration  40\n",
            "Predicting for Iteration  50\n"
          ]
        }
      ]
    },
    {
      "cell_type": "code",
      "source": [
        "plt.scatter(iterations, accValData)\n",
        "plt.plot(iterations, accValData, label = \"Val accuracy\")\n",
        "plt.xlabel(\"Iterations\")\n",
        "plt.ylabel(\"Accuracy\")\n",
        "\n",
        "plt.scatter(iterations, accTestData)\n",
        "plt.plot(iterations, accTestData, label = \"Test accuracy\")\n",
        "plt.title(\"Iteration VS Accuracy\")\n",
        "plt.legend()\n",
        "\n",
        "plt.show()\n"
      ],
      "metadata": {
        "id": "4sD9dAf72fpO",
        "outputId": "88c59b39-f34f-47a2-adc8-4afd2f39c57c",
        "colab": {
          "base_uri": "https://localhost:8080/",
          "height": 295
        }
      },
      "execution_count": null,
      "outputs": [
        {
          "output_type": "display_data",
          "data": {
            "text/plain": [
              "<Figure size 432x288 with 1 Axes>"
            ],
            "image/png": "[encoded data removed]"
          },
          "metadata": {
            "needs_background": "light"
          }
        }
      ]
    },
    {
      "cell_type": "markdown",
      "source": [
        "Consider the results you got for the previous questions. Can we deal with a very small train dataset or validation dataset by increasing the iterations?\n",
        "\n",
        "The accuracy of the model increses with the increase in number of iterations. But with a very large number of iteration there are chances of overfitting so we need to find an optimal value of iterations on the basis of what model and dataset are we working on"
      ],
      "metadata": {
        "id": "Pt17Fmg-3ERd"
      }
    },
    {
      "cell_type": "code",
      "source": [
        "traindata, trainlabel, valdata, vallabel = split(alltraindata, alltrainlabel, 70/100)\n",
        "traindata, trainlabel, valdata, vallabel = split(traindata, trainlabel, 70/100)\n",
        "traindata, trainlabel, valdata, vallabel = split(traindata, trainlabel, 70/100)"
      ],
      "metadata": {
        "id": "Z5zuEUjF3Ms-"
      },
      "execution_count": null,
      "outputs": []
    },
    {
      "cell_type": "code",
      "source": [
        "traindata.shape"
      ],
      "metadata": {
        "id": "X0K-5zw_3VOg",
        "outputId": "ad3729f4-ca64-4a1a-cb69-b43968c83059",
        "colab": {
          "base_uri": "https://localhost:8080/"
        }
      },
      "execution_count": null,
      "outputs": [
        {
          "output_type": "execute_result",
          "data": {
            "text/plain": [
              "(5635, 8)"
            ]
          },
          "metadata": {},
          "execution_count": 33
        }
      ]
    },
    {
      "cell_type": "code",
      "source": [
        "valdata.shape\n"
      ],
      "metadata": {
        "id": "NAaF5oqC3gFN",
        "outputId": "2a163cd8-2248-4833-b7f4-2bc4a9d06d81",
        "colab": {
          "base_uri": "https://localhost:8080/"
        }
      },
      "execution_count": null,
      "outputs": [
        {
          "output_type": "execute_result",
          "data": {
            "text/plain": [
              "(2415, 8)"
            ]
          },
          "metadata": {},
          "execution_count": 34
        }
      ]
    },
    {
      "cell_type": "markdown",
      "source": [
        "Now we have a small training dataset and validation set lets check if the values are still good for different iterations or not"
      ],
      "metadata": {
        "id": "0XdBizOX3pv6"
      }
    },
    {
      "cell_type": "code",
      "source": [
        "def getAccuracyDetails(iterationVal):\n",
        "  accValData = []\n",
        "  accTestData = []\n",
        "  iterations = []\n",
        "  for i in range(10, iterationVal, 10):\n",
        "    print('Predicting for Iteration ', i)\n",
        "    avgValAccuracy = AverageAccuracy(traindata, trainlabel, 75/100, i, classifier = NN)\n",
        "    testPred = NN(traindata, trainlabel, testdata)\n",
        "    avgTestAccuracy = Accuracy(testlabel, testPred)\n",
        "    iterations.append(i)\n",
        "    accValData.append(avgValAccuracy)\n",
        "    accTestData.append(avgTestAccuracy)\n",
        "  return iterations, accValData, accTestData"
      ],
      "metadata": {
        "id": "so1B9C2l32do"
      },
      "execution_count": null,
      "outputs": []
    },
    {
      "cell_type": "code",
      "source": [
        "iterations, accValData, accTestData = getAccuracyDetails(51)"
      ],
      "metadata": {
        "id": "mG5ng0AA4CLQ",
        "outputId": "8296235e-9a83-421f-860c-f652455fe759",
        "colab": {
          "base_uri": "https://localhost:8080/"
        }
      },
      "execution_count": null,
      "outputs": [
        {
          "output_type": "stream",
          "name": "stdout",
          "text": [
            "Predicting for Iteration  10\n",
            "Predicting for Iteration  20\n",
            "Predicting for Iteration  30\n",
            "Predicting for Iteration  40\n",
            "Predicting for Iteration  50\n"
          ]
        }
      ]
    },
    {
      "cell_type": "code",
      "source": [
        "plt.scatter(iterations, accValData)\n",
        "plt.plot(iterations, accValData, label = \"Val accuracy\")\n",
        "plt.xlabel(\"Iterations\")\n",
        "plt.ylabel(\"Accuracy\")\n",
        "\n",
        "plt.scatter(iterations, accTestData)\n",
        "plt.plot(iterations, accTestData, label = \"Test accuracy\")\n",
        "plt.title(\"Iteration VS Accuracy\")\n",
        "plt.legend()\n",
        "\n",
        "plt.show()"
      ],
      "metadata": {
        "id": "D8tXEY_q4T5B",
        "outputId": "ecee244d-c64a-4f99-8fa4-6e8843a12c69",
        "colab": {
          "base_uri": "https://localhost:8080/",
          "height": 295
        }
      },
      "execution_count": null,
      "outputs": [
        {
          "output_type": "display_data",
          "data": {
            "text/plain": [
              "<Figure size 432x288 with 1 Axes>"
            ],
            "image/png": "[encoded data removed]"
          },
          "metadata": {
            "needs_background": "light"
          }
        }
      ]
    },
    {
      "cell_type": "markdown",
      "source": [
        "we can see that with less data the accuracy of the validation set is less as compared with the time when the dataset size was more. Here in our case it doesn't effect much as we are using a classifier based on neighbor. But if we were to use a model for extracting the features and than use those features to predict and value, and save the now obtained weights than we might get lesser accuracy as we go on decreasing the data size, number of iteration helps the model to understand the data and find features or values to improve its accuracy so if we decrease the number of datasets and increase the iteration it will helps uptil a certain point and than will start decreasing as the model will start to overfit. But its a good choice to increase the iterations if dataset is small\n",
        "\n"
      ],
      "metadata": {
        "id": "VFfANG8l4hjh"
      }
    },
    {
      "cell_type": "markdown",
      "source": [
        "## Now let us see how augmentation affects accuracy. We will pick components from what we studied in the last module"
      ],
      "metadata": {
        "id": "UUft9G1acwlB"
      }
    },
    {
      "cell_type": "markdown",
      "source": [
        "we will experiment with MNIST dataset\n"
      ],
      "metadata": {
        "id": "XtU3AfVDkkYM"
      }
    },
    {
      "cell_type": "code",
      "source": [
        "import numpy as np\n",
        "import matplotlib.pyplot as plt\n",
        "from keras.datasets import mnist\n",
        "# set randomseed\n",
        "rng = np.random.default_rng(seed=42)\n",
        "from sklearn.utils.extmath import cartesian\n",
        "from skimage.transform import rotate, AffineTransform, warp\n",
        "import math\n",
        "\n",
        "#loading the dataset\n",
        "(train_X, train_y), (test_X, test_y) = mnist.load_data()\n",
        "\n",
        "print(train_X[0].shape,train_y[0])\n"
      ],
      "metadata": {
        "id": "sHHihgjJ7AR4",
        "outputId": "93905b7b-e0d5-45e2-ee5c-f1f5f0fe5c3a",
        "colab": {
          "base_uri": "https://localhost:8080/"
        }
      },
      "execution_count": null,
      "outputs": [
        {
          "output_type": "stream",
          "name": "stdout",
          "text": [
            "(28, 28) 5\n"
          ]
        }
      ]
    },
    {
      "cell_type": "code",
      "source": [
        "train_X = train_X/255\n",
        "test_X = test_X/255\n",
        "\n",
        "#train_X[0].shape, train_X[0]\n"
      ],
      "metadata": {
        "id": "3GDOZ4HW7zzH"
      },
      "execution_count": null,
      "outputs": []
    },
    {
      "cell_type": "code",
      "source": [
        "train_X = train_X[::1200,:,:].copy() # subsample. Otherwise it will take too long!\n",
        "train_y = train_y[::1200].copy() # do the same to the labels"
      ],
      "metadata": {
        "id": "yKIYqFEt8ASG"
      },
      "execution_count": null,
      "outputs": []
    },
    {
      "cell_type": "code",
      "source": [
        "## Augmentation functions:\n",
        "\n",
        "\n",
        "\n",
        "def augRotate(sample, angleconstraint):\n",
        "  if angleconstraint==0:\n",
        "    return sample\n",
        "\n",
        "  print(\"shape of sample before is:\", sample.shape)\n",
        "  print(\"len(sample.shape)\", len(sample.shape))\n",
        "  if len(sample.shape)==2:\n",
        "    sample = np.expand_dims(sample, 0)  # make sure the sample is 3 dimensional\n",
        "    print(\"shape of sample is:\", sample.shape)\n",
        "  angle = rng.random(len(sample)) # generate random numbers for angles\n",
        "  print(\"angle is:\", angle)\n",
        "  angle = (angle-0.5)*angleconstraint # make the random angle constrained\n",
        "  print(\"angle with constraint is:\", angle)\n",
        "  nsample = sample.copy() # preallocate the augmented array to make it faster\n",
        "  for ii in range(len(sample)):\n",
        "    nsample[ii] = rotate(sample[ii], angle[ii])\n",
        "  return np.squeeze(nsample) # take care if the input had only one sample.\n",
        "\n",
        "\n",
        "def NN1(traindata, trainlabel, query):\n",
        "  diff  = traindata - query  # find the difference between features. Numpy automatically takes care of the size here \n",
        "  sq = diff*diff # square the differences\n",
        "  dist = sq.sum(1) # add up the squares\n",
        "  label = trainlabel[np.argmin(dist)] # our predicted label is the label of the training data which has the least distance from the query\n",
        "  return label\n",
        "\n",
        "def NN(traindata, trainlabel, testdata):\n",
        "  # we will run nearest neighbour for each sample in the test data \n",
        "  # and collect the predicted classes in an array using list comprehension\n",
        "  traindata = traindata.reshape(-1, 28*28)\n",
        "  testdata = testdata.reshape(-1,28*28)\n",
        "  predlabel = np.array([NN1(traindata, trainlabel, i) for i in testdata])\n",
        "  return predlabel\n",
        "\n",
        "def Accuracy(gtlabel, predlabel):\n",
        "  assert len(gtlabel)==len(predlabel), \"Length of the groundtruth labels and predicted labels should be the same\"\n",
        "  correct = (gtlabel==predlabel).sum() # count the number of times the groundtruth label is equal to the predicted label.\n",
        "  return correct/len(gtlabel)"
      ],
      "metadata": {
        "id": "wdF1sTYQ8Kx9"
      },
      "execution_count": null,
      "outputs": []
    },
    {
      "cell_type": "code",
      "source": [
        "def shear(sample, amount):\n",
        "  tform = AffineTransform(shear = amount) # create the shear transform\n",
        "  img = warp(sample, tform) # apply the shear\n",
        "  # this makes the digit off-center. Since all the images in the test set are centralized, we will do the same here\n",
        "  col = img.sum(0).nonzero()[0]\n",
        "  row = img.sum(1).nonzero()[0]\n",
        "  if len(col)>0 and len(row)>0:\n",
        "    xshift = int(sample.shape[0]/2 - (row[0]+row[-1])/2)\n",
        "    yshift = int(sample.shape[1]/2 - (col[0]+col[-1])/2)\n",
        "    img = np.roll(img, (xshift, yshift),(0,1))\n",
        "  return img\n",
        "\n",
        "def augShear(sample, shearconstraint):\n",
        "  if shearconstraint==0:\n",
        "    return sample\n",
        "  if len(sample.shape)==2:\n",
        "    sample = np.expand_dims(sample, 0)  # make sure the sample is 3 dimensional\n",
        "  amt = rng.random(len(sample)) # generate random numbers for shear\n",
        "  amt = (amt-0.5)*shearconstraint # make the random shear constrained\n",
        "  nsample = sample.copy() # preallocate the augmented array to make it faster\n",
        "  for ii in range(len(sample)):\n",
        "    nsample[ii] = shear(sample[ii], amt[ii])\n",
        "  return np.squeeze(nsample) # take care if the input had only one sample."
      ],
      "metadata": {
        "id": "DtCFtgX98T8T"
      },
      "execution_count": null,
      "outputs": []
    },
    {
      "cell_type": "markdown",
      "source": [
        "In this lab, we will use the image pixels themselves as features, instead of extracting features. Each image has 28*28 pixels, so we will flatten them to 784 pixels to use as features. Note that this is very compute intensive and will take a long time.\n",
        "\n",
        "Let us check the baseline accuracy on the test set without any augmentations. We hope that adding augmentations will help us to get better results."
      ],
      "metadata": {
        "id": "vAFpOzQFj-2r"
      }
    },
    {
      "cell_type": "code",
      "source": [
        "testpred = NN(train_X, train_y, test_X)\n",
        "print('Baseline accuracy without augmentation is ', Accuracy(test_y, testpred))"
      ],
      "metadata": {
        "id": "-5kc9ZgQ8gos",
        "outputId": "9f749e89-c0e2-45d2-cec8-e3f04edbe981",
        "colab": {
          "base_uri": "https://localhost:8080/"
        }
      },
      "execution_count": null,
      "outputs": [
        {
          "output_type": "stream",
          "name": "stdout",
          "text": [
            "Baseline accuracy without augmentation is  0.6472\n"
          ]
        }
      ]
    },
    {
      "cell_type": "markdown",
      "source": [
        "Let us try to improve this accuracy using augmentations. When we create augmentations, we have to make sure that the changes reflect what will naturally occur in the dataset. For example, we should not add colour to our samples as an augmentation because they do not naturally occur. We should not also flip the images in MNIST, because flipped images have different meanings for digits."
      ],
      "metadata": {
        "id": "MckdgpPflSYh"
      }
    },
    {
      "cell_type": "markdown",
      "source": [
        "# **AUGMENTATION 1:ROTATION**"
      ],
      "metadata": {
        "id": "JIS4AXLu8wy-"
      }
    },
    {
      "cell_type": "markdown",
      "source": [
        "Let us augment the whole dataset and see if this improves the test accuracy"
      ],
      "metadata": {
        "id": "7aWfHHggmqu7"
      }
    },
    {
      "cell_type": "code",
      "source": [
        "plt.imshow(train_X[2], cmap='gray')\n",
        "plt.show()\n",
        "plt.imshow(rotate(train_X[2],45), cmap='gray')"
      ],
      "metadata": {
        "id": "0UwMsxTP9CGt",
        "outputId": "cf414311-595e-4dc2-b97e-e175f5c8410a",
        "colab": {
          "base_uri": "https://localhost:8080/",
          "height": 530
        }
      },
      "execution_count": null,
      "outputs": [
        {
          "output_type": "display_data",
          "data": {
            "text/plain": [
              "<Figure size 432x288 with 1 Axes>"
            ],
            "image/png": "[encoded data removed]"
          },
          "metadata": {
            "needs_background": "light"
          }
        },
        {
          "output_type": "execute_result",
          "data": {
            "text/plain": [
              "<matplotlib.image.AxesImage at 0x7fac8dd798d0>"
            ]
          },
          "metadata": {},
          "execution_count": 57
        },
        {
          "output_type": "display_data",
          "data": {
            "text/plain": [
              "<Figure size 432x288 with 1 Axes>"
            ],
            "image/png": "[encoded data removed]"
          },
          "metadata": {
            "needs_background": "light"
          }
        }
      ]
    },
    {
      "cell_type": "markdown",
      "source": [
        "After rotating, the the class of the image is still the same. Let us make a function to rotate multiple images by random angles. We want a slightly different image every time we run this function. So, we generate a random number between 0 and 1 and change it so that it lies between -constraint/2 and +constraint/2\n",
        "\n"
      ],
      "metadata": {
        "id": "Apq6-rks9UVg"
      }
    },
    {
      "cell_type": "code",
      "source": [
        "def augRotate(sample, angleconstraint):\n",
        "  if angleconstraint==0:\n",
        "    return sample\n",
        "  if len(sample.shape)==2:\n",
        "    sample = np.expand_dims(sample, 0)  # make sure the sample is 3 dimensional\n",
        "  angle = rng.random(len(sample)) # generate random numbers for angles\n",
        "  angle = (angle-0.5)*angleconstraint # make the random angle constrained\n",
        "  nsample = sample.copy() # preallocate the augmented array to make it faster\n",
        "  for ii in range(len(sample)):\n",
        "    nsample[ii] = rotate(sample[ii], angle[ii])\n",
        "  return np.squeeze(nsample) # take care if the input had only one sample."
      ],
      "metadata": {
        "id": "N3IkcB2O9b5R"
      },
      "execution_count": null,
      "outputs": []
    },
    {
      "cell_type": "markdown",
      "source": [
        "This function returns a slightly different image each time we call it. So we can increase the number of images in the sample by any multiple."
      ],
      "metadata": {
        "id": "1IpQefSS9jya"
      }
    },
    {
      "cell_type": "code",
      "source": [
        "sample = train_X[20]\n",
        "angleconstraint = 70\n",
        "# show the original image\n",
        "plt.imshow(sample, cmap='gray')\n",
        "plt.show()\n",
        "plt.subplot(1,3,1)\n",
        "plt.imshow(augRotate(sample, angleconstraint), cmap='gray') # show an augmented image\n",
        "plt.subplot(1,3,2)\n",
        "plt.imshow(augRotate(sample, angleconstraint), cmap='gray') # show another augmented image from the same sample\n",
        "plt.subplot(1,3,3)\n",
        "plt.imshow(augRotate(sample, angleconstraint), cmap='gray') # one more image from the same sample"
      ],
      "metadata": {
        "id": "Bmm8EO8m943X",
        "outputId": "4bc75dac-51af-4428-9b82-45b0c4f0f0e3",
        "colab": {
          "base_uri": "https://localhost:8080/",
          "height": 414
        }
      },
      "execution_count": null,
      "outputs": [
        {
          "output_type": "display_data",
          "data": {
            "text/plain": [
              "<Figure size 432x288 with 1 Axes>"
            ],
            "image/png": "[encoded data removed]"
          },
          "metadata": {
            "needs_background": "light"
          }
        },
        {
          "output_type": "execute_result",
          "data": {
            "text/plain": [
              "<matplotlib.image.AxesImage at 0x7fac8dc1bc50>"
            ]
          },
          "metadata": {},
          "execution_count": 59
        },
        {
          "output_type": "display_data",
          "data": {
            "text/plain": [
              "<Figure size 432x288 with 3 Axes>"
            ],
            "image/png": "[encoded data removed]"
          },
          "metadata": {
            "needs_background": "light"
          }
        }
      ]
    },
    {
      "cell_type": "code",
      "source": [
        "# hyperparameters\n",
        "angleconstraint = 60\n",
        "naugmentations = 5\n",
        "\n",
        "# augment\n",
        "augdata = train_X # we include the original images also in the augmented dataset\n",
        "auglabel = train_y\n",
        "for ii in range(naugmentations):\n",
        "  augdata = np.concatenate((augdata, augRotate(train_X, angleconstraint))) # concatenate the augmented data to the set\n",
        "  auglabel = np.concatenate((auglabel, train_y))  # the labels don't change when we augment\n",
        "\n",
        "# check the test accuracy\n",
        "testpred = NN(augdata, auglabel, test_X)\n",
        "print('Accuracy after rotation augmentation is ', Accuracy(test_y, testpred))"
      ],
      "metadata": {
        "colab": {
          "base_uri": "https://localhost:8080/"
        },
        "id": "Kdn0TZ_tlMg3",
        "outputId": "64903e9c-700e-4018-c59d-a28ab1b796ca"
      },
      "execution_count": null,
      "outputs": [
        {
          "output_type": "stream",
          "name": "stdout",
          "text": [
            "Accuracy after rotation augmentation is  0.6616\n"
          ]
        }
      ]
    },
    {
      "cell_type": "markdown",
      "source": [
        "The angle constraint is a hyperparameter which we have to tune using a validation set. (Here we are not doing that for time constraints). Let us try a grid search to find the best angle constraint."
      ],
      "metadata": {
        "id": "R6vwKYxNnjvS"
      }
    },
    {
      "cell_type": "code",
      "source": [
        "angleconstraints = [0,10,20,30,40,50,60,70,80,90] # the values we want to test\n",
        "accuracies = np.zeros(len(angleconstraints), dtype=np.float) # we will save the values here\n",
        "\n",
        "for ii in range(len(angleconstraints)):\n",
        "  # create the augmented dataset\n",
        "  augdata = train_X # we include the original images also in the augmented dataset\n",
        "  auglabel = train_y\n",
        "  for jj in range(naugmentations):\n",
        "    augdata = np.concatenate((augdata, augRotate(train_X, angleconstraints[ii]))) # concatenate the augmented data to the set\n",
        "    auglabel = np.concatenate((auglabel, train_y))  # the labels don't change when we augment\n",
        "\n",
        "  # check the test accuracy\n",
        "  testpred = NN(augdata, auglabel, test_X)\n",
        "  accuracies[ii] = Accuracy(test_y, testpred)\n",
        "  print('Accuracy after rotation augmentation constrained by ',angleconstraints[ii], ' is ', accuracies[ii], flush=True)"
      ],
      "metadata": {
        "colab": {
          "base_uri": "https://localhost:8080/"
        },
        "id": "2TuE7cTCnZ9g",
        "outputId": "1eeb36d9-35de-4a87-ac8f-e38ff6544fe1"
      },
      "execution_count": null,
      "outputs": [
        {
          "output_type": "stream",
          "name": "stderr",
          "text": [
            "/usr/local/lib/python3.7/dist-packages/ipykernel_launcher.py:2: DeprecationWarning: `np.float` is a deprecated alias for the builtin `float`. To silence this warning, use `float` by itself. Doing this will not modify any behavior and is safe. If you specifically wanted the numpy scalar type, use `np.float64` here.\n",
            "Deprecated in NumPy 1.20; for more details and guidance: https://numpy.org/devdocs/release/1.20.0-notes.html#deprecations\n",
            "  \n"
          ]
        },
        {
          "output_type": "stream",
          "name": "stdout",
          "text": [
            "Accuracy after rotation augmentation constrained by  0  is  0.6472\n",
            "Accuracy after rotation augmentation constrained by  10  is  0.6727\n",
            "Accuracy after rotation augmentation constrained by  20  is  0.673\n",
            "Accuracy after rotation augmentation constrained by  30  is  0.6737\n",
            "Accuracy after rotation augmentation constrained by  40  is  0.6731\n",
            "Accuracy after rotation augmentation constrained by  50  is  0.6701\n",
            "Accuracy after rotation augmentation constrained by  60  is  0.6675\n",
            "Accuracy after rotation augmentation constrained by  70  is  0.661\n",
            "Accuracy after rotation augmentation constrained by  80  is  0.6462\n",
            "Accuracy after rotation augmentation constrained by  90  is  0.6469\n"
          ]
        }
      ]
    },
    {
      "cell_type": "code",
      "source": [
        "angleconstraints = [30] # the values we want to test\n",
        "accuracies = np.zeros(len(angleconstraints), dtype=np.float) # we will save the values here\n",
        "\n",
        "for ii in range(len(angleconstraints)):\n",
        "  # create the augmented dataset\n",
        "  augdata = train_X # we include the original images also in the augmented dataset\n",
        "  auglabel = train_y\n",
        "  for jj in range(naugmentations):\n",
        "    augdata = np.concatenate((augdata, augRotate(train_X, angleconstraints[ii]))) # concatenate the augmented data to the set\n",
        "    auglabel = np.concatenate((auglabel, train_y))  # the labels don't change when we augment\n",
        "  print(augdata.shape)\n",
        "  print(train_X.shape)\n",
        "  # check the test accuracy\n",
        "  testpred = NN(augdata, auglabel, test_X)\n",
        "  accuracies[ii] = Accuracy(test_y, testpred)\n",
        "  print('Accuracy after rotation augmentation constrained by ',angleconstraints[ii], ' is ', accuracies[ii], flush=True)\n"
      ],
      "metadata": {
        "id": "nZWuuUdA-1Zh",
        "outputId": "ad4b8ce5-329a-4207-8cf2-294a6129e51b",
        "colab": {
          "base_uri": "https://localhost:8080/"
        }
      },
      "execution_count": null,
      "outputs": [
        {
          "output_type": "stream",
          "name": "stderr",
          "text": [
            "/usr/local/lib/python3.7/dist-packages/ipykernel_launcher.py:2: DeprecationWarning: `np.float` is a deprecated alias for the builtin `float`. To silence this warning, use `float` by itself. Doing this will not modify any behavior and is safe. If you specifically wanted the numpy scalar type, use `np.float64` here.\n",
            "Deprecated in NumPy 1.20; for more details and guidance: https://numpy.org/devdocs/release/1.20.0-notes.html#deprecations\n",
            "  \n"
          ]
        },
        {
          "output_type": "stream",
          "name": "stdout",
          "text": [
            "(300, 28, 28)\n",
            "(50, 28, 28)\n",
            "Accuracy after rotation augmentation constrained by  30  is  0.681\n"
          ]
        }
      ]
    },
    {
      "cell_type": "markdown",
      "source": [
        "Let us see the best value for angle constraint: (Ideally this should be done on validation set, not test set)"
      ],
      "metadata": {
        "id": "SEqGdQQ7_EQV"
      }
    },
    {
      "cell_type": "code",
      "source": [
        "fig = plt.figure()\n",
        "ax = fig.add_axes([0.1, 0.1, 0.8, 0.8]) # main axes\n",
        "# plot the variation of accuracy\n",
        "ax.plot(angleconstraints, accuracies)\n",
        "ax.set_xlabel('angle')\n",
        "ax.set_ylabel('accuracy')\n",
        "# plot the maximum accuracy\n",
        "maxind = np.argmax(accuracies)\n",
        "plt.scatter(angleconstraints[maxind], accuracies[maxind], c='red')"
      ],
      "metadata": {
        "colab": {
          "base_uri": "https://localhost:8080/",
          "height": 309
        },
        "id": "xG__xE-FoQOg",
        "outputId": "b96ca8b9-8331-4ba4-9f3c-0cdddfd1257a"
      },
      "execution_count": null,
      "outputs": [
        {
          "output_type": "execute_result",
          "data": {
            "text/plain": [
              "<matplotlib.collections.PathCollection at 0x7fac8db1dd90>"
            ]
          },
          "metadata": {},
          "execution_count": 64
        },
        {
          "output_type": "display_data",
          "data": {
            "text/plain": [
              "<Figure size 432x288 with 1 Axes>"
            ],
            "image/png": "[encoded data removed]"
          },
          "metadata": {
            "needs_background": "light"
          }
        }
      ]
    },
    {
      "cell_type": "markdown",
      "source": [
        "Let us do a grid search to find the best shear constraint."
      ],
      "metadata": {
        "id": "Vfy-LEb-qdUd"
      }
    },
    {
      "cell_type": "code",
      "source": [
        "shearconstraints = [0, 0.2,0.4,0.6,0.8,1.0,1.2,1.4,1.6,1.8,2.0] # the values we want to test\n",
        "accuracies = np.zeros(len(shearconstraints), dtype=np.float) # we will save the values here\n",
        "\n",
        "for ii in range(len(shearconstraints)):\n",
        "  # create the augmented dataset\n",
        "  augdata = train_X # we include the original images also in the augmented dataset\n",
        "  auglabel = train_y\n",
        "  for jj in range(naugmentations):\n",
        "    augdata = np.concatenate((augdata, augShear(train_X, shearconstraints[ii]))) # concatenate the augmented data to the set\n",
        "    auglabel = np.concatenate((auglabel, train_y))  # the labels don't change when we augment\n",
        "\n",
        "  # check the test accuracy\n",
        "  testpred = NN(augdata, auglabel, test_X)\n",
        "  accuracies[ii] = Accuracy(test_y, testpred)\n",
        "  print('Accuracy after shear augmentation constrained by ',shearconstraints[ii], ' is ', accuracies[ii], flush=True)"
      ],
      "metadata": {
        "colab": {
          "base_uri": "https://localhost:8080/"
        },
        "id": "22m9xPrBoSDi",
        "outputId": "e662111d-cb24-40f2-9fe7-69534b74c7e0"
      },
      "execution_count": null,
      "outputs": [
        {
          "output_type": "stream",
          "name": "stderr",
          "text": [
            "/usr/local/lib/python3.7/dist-packages/ipykernel_launcher.py:2: DeprecationWarning: `np.float` is a deprecated alias for the builtin `float`. To silence this warning, use `float` by itself. Doing this will not modify any behavior and is safe. If you specifically wanted the numpy scalar type, use `np.float64` here.\n",
            "Deprecated in NumPy 1.20; for more details and guidance: https://numpy.org/devdocs/release/1.20.0-notes.html#deprecations\n",
            "  \n"
          ]
        },
        {
          "output_type": "stream",
          "name": "stdout",
          "text": [
            "Accuracy after shear augmentation constrained by  0  is  0.6472\n",
            "Accuracy after shear augmentation constrained by  0.2  is  0.614\n",
            "Accuracy after shear augmentation constrained by  0.4  is  0.6331\n",
            "Accuracy after shear augmentation constrained by  0.6  is  0.6391\n",
            "Accuracy after shear augmentation constrained by  0.8  is  0.6439\n",
            "Accuracy after shear augmentation constrained by  1.0  is  0.6381\n",
            "Accuracy after shear augmentation constrained by  1.2  is  0.6504\n",
            "Accuracy after shear augmentation constrained by  1.4  is  0.6527\n",
            "Accuracy after shear augmentation constrained by  1.6  is  0.6388\n",
            "Accuracy after shear augmentation constrained by  1.8  is  0.6404\n",
            "Accuracy after shear augmentation constrained by  2.0  is  0.6261\n"
          ]
        }
      ]
    },
    {
      "cell_type": "code",
      "source": [
        "fig = plt.figure()\n",
        "ax = fig.add_axes([0.1, 0.1, 0.8, 0.8]) # main axes\n",
        "# plot the variation of accuracy\n",
        "ax.plot(shearconstraints, accuracies)\n",
        "ax.set_xlabel('angle')\n",
        "ax.set_ylabel('accuracy')\n",
        "# plot the maximum accuracy\n",
        "maxind = np.argmax(accuracies)\n",
        "plt.scatter(shearconstraints[maxind], accuracies[maxind], c='red')"
      ],
      "metadata": {
        "colab": {
          "base_uri": "https://localhost:8080/",
          "height": 309
        },
        "id": "kBBum9xPqglf",
        "outputId": "59472ec9-c906-47f4-af8b-5682331fd3a3"
      },
      "execution_count": null,
      "outputs": [
        {
          "output_type": "execute_result",
          "data": {
            "text/plain": [
              "<matplotlib.collections.PathCollection at 0x7fac8daa4c90>"
            ]
          },
          "metadata": {},
          "execution_count": 66
        },
        {
          "output_type": "display_data",
          "data": {
            "text/plain": [
              "<Figure size 432x288 with 1 Axes>"
            ],
            "image/png": "[encoded data removed]"
          },
          "metadata": {
            "needs_background": "light"
          }
        }
      ]
    },
    {
      "cell_type": "markdown",
      "source": [
        "We can do multiple augmentations at the same time. Here is a function to do both shear and rotation to the sample. In this case, we will have two hyperparameters."
      ],
      "metadata": {
        "id": "88Bu9veestqd"
      }
    },
    {
      "cell_type": "code",
      "source": [
        "def augRotateShear(sample, angleconstraint, shearconstraint):\n",
        "  if len(sample.shape)==2:\n",
        "    sample = np.expand_dims(sample, 0)  # make sure the sample is 3 dimensional\n",
        "  amt = rng.random(len(sample)) # generate random numbers for shear\n",
        "  amt = (amt-0.5)*shearconstraint # make the random shear constrained\n",
        "  angle = rng.random(len(sample)) # generate random numbers for angles\n",
        "  angle = (angle-0.5)*angleconstraint # make the random angle constrained\n",
        "  nsample = sample.copy() # preallocate the augmented array to make it faster\n",
        "  for ii in range(len(sample)):\n",
        "    nsample[ii] = rotate(shear(sample[ii], amt[ii]), angle[ii]) # first apply shear, then rotate\n",
        "  return np.squeeze(nsample) # take care if the input had only one sample."
      ],
      "metadata": {
        "id": "T9CflCiur-lr"
      },
      "execution_count": null,
      "outputs": []
    },
    {
      "cell_type": "markdown",
      "source": [
        "Since we have two hyperparameters, we have to do the grid search on a 2 dimensional matrix. We can use our previous experience to inform where to search for the best hyperparameters. "
      ],
      "metadata": {
        "id": "-EdNnol9s4NZ"
      }
    },
    {
      "cell_type": "code",
      "source": [
        "shearconstraints = [0, 0.2,0.4,0.6,0.8,1.0,1.2,1.4,1.6] # the values we want to test\n",
        "angleconstraints = [0,10,20,30,40,50,60] # the values we want to test\n",
        "hyp = cartesian((shearconstraints, angleconstraints)) # cartesian product of both\n",
        "\n",
        "accuracies = np.zeros(len(hyp), dtype=np.float) # we will save the values here\n",
        "\n",
        "for ii in range(len(hyp)):\n",
        "  # create the augmented dataset\n",
        "  augdata = train_X # we include the original images also in the augmented dataset\n",
        "  auglabel = train_y\n",
        "  for jj in range(naugmentations):\n",
        "    augdata = np.concatenate((augdata, augRotateShear(train_X, hyp[ii][0], hyp[ii][1]))) # concatenate the augmented data to the set\n",
        "    auglabel = np.concatenate((auglabel, train_y))  # the labels don't change when we augment\n",
        "\n",
        "  # check the test accuracy\n",
        "  testpred = NN(augdata, auglabel, test_X)\n",
        "  accuracies[ii] = Accuracy(test_y, testpred)\n",
        "  print('Accuracy after augmentation shear:',hyp[ii][0], 'angle:',hyp[ii][1], ' is ', accuracies[ii], flush=True)"
      ],
      "metadata": {
        "colab": {
          "base_uri": "https://localhost:8080/"
        },
        "id": "UfmRisY-swyX",
        "outputId": "bea6faba-0482-4904-cead-80bc0ffeee3f"
      },
      "execution_count": null,
      "outputs": [
        {
          "metadata": {
            "tags": null
          },
          "name": "stderr",
          "output_type": "stream",
          "text": [
            "/usr/local/lib/python3.7/dist-packages/ipykernel_launcher.py:5: DeprecationWarning: `np.float` is a deprecated alias for the builtin `float`. To silence this warning, use `float` by itself. Doing this will not modify any behavior and is safe. If you specifically wanted the numpy scalar type, use `np.float64` here.\n",
            "Deprecated in NumPy 1.20; for more details and guidance: https://numpy.org/devdocs/release/1.20.0-notes.html#deprecations\n",
            "  \"\"\"\n"
          ]
        },
        {
          "metadata": {
            "tags": null
          },
          "name": "stdout",
          "output_type": "stream",
          "text": [
            "Accuracy after augmentation shear: 0.0 angle: 0.0  is  0.6332\n",
            "Accuracy after augmentation shear: 0.0 angle: 10.0  is  0.5932\n",
            "Accuracy after augmentation shear: 0.0 angle: 20.0  is  0.5909\n",
            "Accuracy after augmentation shear: 0.0 angle: 30.0  is  0.5856\n",
            "Accuracy after augmentation shear: 0.0 angle: 40.0  is  0.5918\n",
            "Accuracy after augmentation shear: 0.0 angle: 50.0  is  0.5841\n",
            "Accuracy after augmentation shear: 0.0 angle: 60.0  is  0.6096\n",
            "Accuracy after augmentation shear: 0.2 angle: 0.0  is  0.6335\n",
            "Accuracy after augmentation shear: 0.2 angle: 10.0  is  0.6156\n",
            "Accuracy after augmentation shear: 0.2 angle: 20.0  is  0.6103\n",
            "Accuracy after augmentation shear: 0.2 angle: 30.0  is  0.589\n",
            "Accuracy after augmentation shear: 0.2 angle: 40.0  is  0.5847\n",
            "Accuracy after augmentation shear: 0.2 angle: 50.0  is  0.6049\n",
            "Accuracy after augmentation shear: 0.2 angle: 60.0  is  0.6034\n",
            "Accuracy after augmentation shear: 0.4 angle: 0.0  is  0.634\n",
            "Accuracy after augmentation shear: 0.4 angle: 10.0  is  0.5933\n",
            "Accuracy after augmentation shear: 0.4 angle: 20.0  is  0.6136\n",
            "Accuracy after augmentation shear: 0.4 angle: 30.0  is  0.5939\n",
            "Accuracy after augmentation shear: 0.4 angle: 40.0  is  0.6103\n",
            "Accuracy after augmentation shear: 0.4 angle: 50.0  is  0.6017\n",
            "Accuracy after augmentation shear: 0.4 angle: 60.0  is  0.5955\n",
            "Accuracy after augmentation shear: 0.6 angle: 0.0  is  0.6334\n",
            "Accuracy after augmentation shear: 0.6 angle: 10.0  is  0.5793\n",
            "Accuracy after augmentation shear: 0.6 angle: 20.0  is  0.586\n",
            "Accuracy after augmentation shear: 0.6 angle: 30.0  is  0.6273\n",
            "Accuracy after augmentation shear: 0.6 angle: 40.0  is  0.5818\n",
            "Accuracy after augmentation shear: 0.6 angle: 50.0  is  0.5749\n",
            "Accuracy after augmentation shear: 0.6 angle: 60.0  is  0.5955\n",
            "Accuracy after augmentation shear: 0.8 angle: 0.0  is  0.6348\n",
            "Accuracy after augmentation shear: 0.8 angle: 10.0  is  0.6056\n",
            "Accuracy after augmentation shear: 0.8 angle: 20.0  is  0.5937\n",
            "Accuracy after augmentation shear: 0.8 angle: 30.0  is  0.6053\n",
            "Accuracy after augmentation shear: 0.8 angle: 40.0  is  0.6104\n",
            "Accuracy after augmentation shear: 0.8 angle: 50.0  is  0.6246\n",
            "Accuracy after augmentation shear: 0.8 angle: 60.0  is  0.5904\n",
            "Accuracy after augmentation shear: 1.0 angle: 0.0  is  0.6338\n",
            "Accuracy after augmentation shear: 1.0 angle: 10.0  is  0.6111\n",
            "Accuracy after augmentation shear: 1.0 angle: 20.0  is  0.6007\n",
            "Accuracy after augmentation shear: 1.0 angle: 30.0  is  0.5754\n",
            "Accuracy after augmentation shear: 1.0 angle: 40.0  is  0.5584\n",
            "Accuracy after augmentation shear: 1.0 angle: 50.0  is  0.5825\n",
            "Accuracy after augmentation shear: 1.0 angle: 60.0  is  0.6037\n",
            "Accuracy after augmentation shear: 1.2 angle: 0.0  is  0.6363\n",
            "Accuracy after augmentation shear: 1.2 angle: 10.0  is  0.5996\n",
            "Accuracy after augmentation shear: 1.2 angle: 20.0  is  0.5976\n",
            "Accuracy after augmentation shear: 1.2 angle: 30.0  is  0.5907\n",
            "Accuracy after augmentation shear: 1.2 angle: 40.0  is  0.6154\n",
            "Accuracy after augmentation shear: 1.2 angle: 50.0  is  0.5597\n",
            "Accuracy after augmentation shear: 1.2 angle: 60.0  is  0.5985\n",
            "Accuracy after augmentation shear: 1.4 angle: 0.0  is  0.6322\n",
            "Accuracy after augmentation shear: 1.4 angle: 10.0  is  0.6091\n",
            "Accuracy after augmentation shear: 1.4 angle: 20.0  is  0.605\n",
            "Accuracy after augmentation shear: 1.4 angle: 30.0  is  0.5818\n",
            "Accuracy after augmentation shear: 1.4 angle: 40.0  is  0.5938\n",
            "Accuracy after augmentation shear: 1.4 angle: 50.0  is  0.6082\n",
            "Accuracy after augmentation shear: 1.4 angle: 60.0  is  0.5886\n",
            "Accuracy after augmentation shear: 1.6 angle: 0.0  is  0.6352\n",
            "Accuracy after augmentation shear: 1.6 angle: 10.0  is  0.5909\n",
            "Accuracy after augmentation shear: 1.6 angle: 20.0  is  0.5958\n",
            "Accuracy after augmentation shear: 1.6 angle: 30.0  is  0.5935\n",
            "Accuracy after augmentation shear: 1.6 angle: 40.0  is  0.5997\n",
            "Accuracy after augmentation shear: 1.6 angle: 50.0  is  0.5783\n",
            "Accuracy after augmentation shear: 1.6 angle: 60.0  is  0.5912\n"
          ]
        }
      ]
    },
    {
      "cell_type": "markdown",
      "source": [
        "Let us plot it two dimensionally to see which is the best value for the hyperparameters:"
      ],
      "metadata": {
        "id": "twI4Tk5etBTE"
      }
    },
    {
      "cell_type": "code",
      "source": [
        "fig = plt.figure()\n",
        "ax = fig.add_axes([0.1, 0.1, 0.8, 0.8]) # main axes\n",
        "im = ax.imshow(accuracies.reshape((len(shearconstraints), len(angleconstraints))), cmap='inferno') \n",
        "ax.set_xlabel('angle')\n",
        "ax.set_ylabel('shear')\n",
        "ax.set_xticks(np.arange(len(angleconstraints)));\n",
        "ax.set_xticklabels(angleconstraints);\n",
        "ax.set_yticks(np.arange(len(shearconstraints)));\n",
        "ax.set_yticklabels(shearconstraints);\n",
        "plt.colorbar(im)"
      ],
      "metadata": {
        "colab": {
          "base_uri": "https://localhost:8080/",
          "height": 309
        },
        "id": "CS8X6jLAs7hW",
        "outputId": "84d5edff-0980-4b94-9125-c40ef87230fb"
      },
      "execution_count": null,
      "outputs": [
        {
          "data": {
            "text/plain": [
              "<matplotlib.colorbar.Colorbar at 0x7fcb7eb25c10>"
            ]
          },
          "execution_count": 69,
          "metadata": {},
          "output_type": "execute_result"
        },
        {
          "data": {
            "image/png": "[encoded data removed]",
            "text/plain": [
              "<Figure size 432x288 with 2 Axes>"
            ]
          },
          "metadata": {},
          "output_type": "display_data"
        }
      ]
    },
    {
      "cell_type": "markdown",
      "source": [
        "It seems that rotation and shear don't mix! The best accuracy is when rotation is zero."
      ],
      "metadata": {
        "id": "JRnymka4vnla"
      }
    },
    {
      "cell_type": "markdown",
      "source": [
        "## Questions\n",
        "Try these questions for better understanding. You may not be able to solve all of them. \n",
        "1. What is the best value for angle constraint and shear constraint you got? How much did the accuracy improve as compared to not using augmentations?\n",
        "2. Can you increase the accuracy by increasing the number of augmentations from each sample?\n",
        "3. Try implementing a few augmentations of your own and experimenting with them. A good reference is <a href=https://www.analyticsvidhya.com/blog/2019/12/image-augmentation-deep-learning-pytorch/>here. </a>\n",
        "4. Try combining various augmentations. What is the highest accuracy you can get? What is the smallest training dataset you can take and still get accuracy above 50%?\n",
        "\n",
        "Whenever you do any experiment, a good practice is to vary the hyperparameters gradually and create a graph of your results, like we did for gridsearch. "
      ],
      "metadata": {
        "id": "cU9AxYWJvs_P"
      }
    },
    {
      "cell_type": "markdown",
      "source": [
        "# **ANSWER FOR QUESTION:01**"
      ],
      "metadata": {
        "id": "DVOvOdfoBNdx"
      }
    },
    {
      "cell_type": "markdown",
      "source": [
        "1.When taking only the hyperparameter angle constraint the highest accuracy obtained was 0.6822 or 68.22% when the angle constraint value was 20, the resulting accuracy is much better than when we didn't apply any augmentation on the dataset. Without augmenation the accuracy was 64.72% 2.When taking only the hyperparameter shear constraint the highest accuracy obtained was 65.66% at 0.8 and the parameter value was 0.8, without augmentation the value of accuracy was 64.72% which wasn't that bad considering the accuracy results obtained for many other higher values of augmentation through shear.\n",
        "3.when using both at the same time in grid search we get the output highest for the shear constraint value of 1.6 and rotate angle of 0, the accuracy obtained is 63.45%,\n",
        "\n",
        "In case of rotation the accuracies was least in case of original data, but was higher for various values of augmentation. In case of shear the accuracies was least at 2.0 value of constraint but in case of original data the accuracy was not that bad. Now decrease in accuracy as we keep on increasing the value of hyperparameter can be because after a certain value the data set is not same at all like roating 7 by 90 degrees or shearing with value of 2 makes the data completely different."
      ],
      "metadata": {
        "id": "Wgw0dRNqBd8Z"
      }
    },
    {
      "cell_type": "code",
      "source": [
        "import pandas as pd\n"
      ],
      "metadata": {
        "id": "U8vjAkkdvjOk"
      },
      "execution_count": null,
      "outputs": []
    },
    {
      "cell_type": "code",
      "source": [
        "dataframe = pd.DataFrame(hyp, columns = ['shear','angle'])\n",
        "dataframe['accuracy'] = accuracies\n",
        "dataframe = dataframe.sort_values(by = 'accuracy', ascending = False)"
      ],
      "metadata": {
        "id": "m7xBKkjDBnc1"
      },
      "execution_count": null,
      "outputs": []
    },
    {
      "cell_type": "code",
      "source": [
        "dataframe[:15]"
      ],
      "metadata": {
        "id": "ssAd0vdnBz0A",
        "outputId": "5b823532-17dd-4ad0-dd71-d521e09caa2a",
        "colab": {
          "base_uri": "https://localhost:8080/",
          "height": 165
        }
      },
      "execution_count": 8,
      "outputs": [
        {
          "output_type": "error",
          "ename": "NameError",
          "evalue": "ignored",
          "traceback": [
            "\u001b[0;31m---------------------------------------------------------------------------\u001b[0m",
            "\u001b[0;31mNameError\u001b[0m                                 Traceback (most recent call last)",
            "\u001b[0;32m<ipython-input-8-86bde1488ba2>\u001b[0m in \u001b[0;36m<cell line: 1>\u001b[0;34m()\u001b[0m\n\u001b[0;32m----> 1\u001b[0;31m \u001b[0mdataframe\u001b[0m\u001b[0;34m[\u001b[0m\u001b[0;34m:\u001b[0m\u001b[0;36m15\u001b[0m\u001b[0;34m]\u001b[0m\u001b[0;34m\u001b[0m\u001b[0;34m\u001b[0m\u001b[0m\n\u001b[0m",
            "\u001b[0;31mNameError\u001b[0m: name 'dataframe' is not defined"
          ]
        }
      ]
    },
    {
      "cell_type": "markdown",
      "source": [
        "# **ANSWER FOR QUESTION :02**"
      ],
      "metadata": {
        "id": "tuppZrRTCGGN"
      }
    },
    {
      "cell_type": "code",
      "source": [
        "def findAcc(j, angleconstraint = 0):\n",
        "  augdata = train_X\n",
        "  auglabel = train_y\n",
        "  for ii in range(j):\n",
        "    augdata = np.concatenate((augdata, augRotate(train_X, angleconstraint)))\n",
        "    auglabel = np.concatenate((auglabel, train_y))\n",
        "\n",
        "  # check the test accuracy\n",
        "  testpred = NN(augdata, auglabel, test_X)\n",
        "  return Accuracy(test_y, testpred)\n",
        "\n",
        "angleconstraint = 20\n",
        "accuracy = {}\n",
        "for i in range(naugmentations):\n",
        "  for j in range(i):\n",
        "    accuracy[i] = findAcc(j, angleconstraint)"
      ],
      "metadata": {
        "id": "LD-p_plbCW7d"
      },
      "execution_count": null,
      "outputs": []
    },
    {
      "cell_type": "code",
      "source": [
        "plt.plot(list(accuracy.keys()), list(accuracy.values()))\n",
        "plt.scatter(list(accuracy.keys()), list(accuracy.values()))\n",
        "plt.xlabel(\"Number of Augmentations\")\n",
        "plt.ylabel(\"Accuracy\")\n"
      ],
      "metadata": {
        "id": "-WAToUOnCdM0",
        "outputId": "77c990c9-fab5-4909-83fa-e514c6fd25a7",
        "colab": {
          "base_uri": "https://localhost:8080/",
          "height": 217
        }
      },
      "execution_count": 9,
      "outputs": [
        {
          "output_type": "error",
          "ename": "NameError",
          "evalue": "ignored",
          "traceback": [
            "\u001b[0;31m---------------------------------------------------------------------------\u001b[0m",
            "\u001b[0;31mNameError\u001b[0m                                 Traceback (most recent call last)",
            "\u001b[0;32m<ipython-input-9-21db0fb57b2b>\u001b[0m in \u001b[0;36m<cell line: 1>\u001b[0;34m()\u001b[0m\n\u001b[0;32m----> 1\u001b[0;31m \u001b[0mplt\u001b[0m\u001b[0;34m.\u001b[0m\u001b[0mplot\u001b[0m\u001b[0;34m(\u001b[0m\u001b[0mlist\u001b[0m\u001b[0;34m(\u001b[0m\u001b[0maccuracy\u001b[0m\u001b[0;34m.\u001b[0m\u001b[0mkeys\u001b[0m\u001b[0;34m(\u001b[0m\u001b[0;34m)\u001b[0m\u001b[0;34m)\u001b[0m\u001b[0;34m,\u001b[0m \u001b[0mlist\u001b[0m\u001b[0;34m(\u001b[0m\u001b[0maccuracy\u001b[0m\u001b[0;34m.\u001b[0m\u001b[0mvalues\u001b[0m\u001b[0;34m(\u001b[0m\u001b[0;34m)\u001b[0m\u001b[0;34m)\u001b[0m\u001b[0;34m)\u001b[0m\u001b[0;34m\u001b[0m\u001b[0;34m\u001b[0m\u001b[0m\n\u001b[0m\u001b[1;32m      2\u001b[0m \u001b[0mplt\u001b[0m\u001b[0;34m.\u001b[0m\u001b[0mscatter\u001b[0m\u001b[0;34m(\u001b[0m\u001b[0mlist\u001b[0m\u001b[0;34m(\u001b[0m\u001b[0maccuracy\u001b[0m\u001b[0;34m.\u001b[0m\u001b[0mkeys\u001b[0m\u001b[0;34m(\u001b[0m\u001b[0;34m)\u001b[0m\u001b[0;34m)\u001b[0m\u001b[0;34m,\u001b[0m \u001b[0mlist\u001b[0m\u001b[0;34m(\u001b[0m\u001b[0maccuracy\u001b[0m\u001b[0;34m.\u001b[0m\u001b[0mvalues\u001b[0m\u001b[0;34m(\u001b[0m\u001b[0;34m)\u001b[0m\u001b[0;34m)\u001b[0m\u001b[0;34m)\u001b[0m\u001b[0;34m\u001b[0m\u001b[0;34m\u001b[0m\u001b[0m\n\u001b[1;32m      3\u001b[0m \u001b[0mplt\u001b[0m\u001b[0;34m.\u001b[0m\u001b[0mxlabel\u001b[0m\u001b[0;34m(\u001b[0m\u001b[0;34m\"Number of Augmentations\"\u001b[0m\u001b[0;34m)\u001b[0m\u001b[0;34m\u001b[0m\u001b[0;34m\u001b[0m\u001b[0m\n\u001b[1;32m      4\u001b[0m \u001b[0mplt\u001b[0m\u001b[0;34m.\u001b[0m\u001b[0mylabel\u001b[0m\u001b[0;34m(\u001b[0m\u001b[0;34m\"Accuracy\"\u001b[0m\u001b[0;34m)\u001b[0m\u001b[0;34m\u001b[0m\u001b[0;34m\u001b[0m\u001b[0m\n",
            "\u001b[0;31mNameError\u001b[0m: name 'plt' is not defined"
          ]
        }
      ]
    },
    {
      "cell_type": "markdown",
      "source": [
        "Above is the plot for number of augmentation vs accuracy for the rotation with angle constraint 20 which we got highest accuracy for previously, and we can see that for higher values of augmentation we got a fairly good result of accuracy so we can say that with increase in number of augmentation the accuracy is increased. But that is not always true as for very higher values like we can see here more than 6 or 7 the accuracy is getting bad."
      ],
      "metadata": {
        "id": "JMop_oSgC165"
      }
    },
    {
      "cell_type": "code",
      "source": [
        "def findAccShear(shearconstraints, naugmentations):\n",
        "  # create the augmented dataset\n",
        "  augdata = train_X # we include the original images also in the augmented dataset\n",
        "  auglabel = train_y\n",
        "  for jj in range(naugmentations):\n",
        "    augdata = np.concatenate((augdata, augShear(train_X, shearconstraints))) # concatenate the augmented data to the set\n",
        "    auglabel = np.concatenate((auglabel, train_y))  # the labels don't change when we augment\n",
        "\n",
        "  # check the test accuracy\n",
        "  testpred = NN(augdata, auglabel, test_X)\n",
        "  return Accuracy(test_y, testpred)\n",
        "\n",
        "#for 0.8 we got highest accuracy so lets try for different augmentation using this value only as constraint\n",
        "shearconstraints = 0.8\n",
        "naugmentations = 10\n",
        "accuracy = {}\n",
        "for i in range(naugmentations):\n",
        "  for j in range(i):\n",
        "    accuracy[i] = findAccShear(shearconstraints,j)"
      ],
      "metadata": {
        "id": "XXfJz_7VC_cE"
      },
      "execution_count": null,
      "outputs": []
    },
    {
      "cell_type": "code",
      "source": [
        "plt.plot(list(accuracy.keys()), list(accuracy.values()))\n",
        "plt.scatter(list(accuracy.keys()), list(accuracy.values()))\n",
        "plt.xlabel(\"Number of Augmentations\")\n",
        "plt.ylabel(\"Accuracy\")\n"
      ],
      "metadata": {
        "id": "G9JjSYs8DSmL",
        "outputId": "fa188778-3491-440a-ca93-146255b1058d",
        "colab": {
          "base_uri": "https://localhost:8080/",
          "height": 217
        }
      },
      "execution_count": 10,
      "outputs": [
        {
          "output_type": "error",
          "ename": "NameError",
          "evalue": "ignored",
          "traceback": [
            "\u001b[0;31m---------------------------------------------------------------------------\u001b[0m",
            "\u001b[0;31mNameError\u001b[0m                                 Traceback (most recent call last)",
            "\u001b[0;32m<ipython-input-10-21db0fb57b2b>\u001b[0m in \u001b[0;36m<cell line: 1>\u001b[0;34m()\u001b[0m\n\u001b[0;32m----> 1\u001b[0;31m \u001b[0mplt\u001b[0m\u001b[0;34m.\u001b[0m\u001b[0mplot\u001b[0m\u001b[0;34m(\u001b[0m\u001b[0mlist\u001b[0m\u001b[0;34m(\u001b[0m\u001b[0maccuracy\u001b[0m\u001b[0;34m.\u001b[0m\u001b[0mkeys\u001b[0m\u001b[0;34m(\u001b[0m\u001b[0;34m)\u001b[0m\u001b[0;34m)\u001b[0m\u001b[0;34m,\u001b[0m \u001b[0mlist\u001b[0m\u001b[0;34m(\u001b[0m\u001b[0maccuracy\u001b[0m\u001b[0;34m.\u001b[0m\u001b[0mvalues\u001b[0m\u001b[0;34m(\u001b[0m\u001b[0;34m)\u001b[0m\u001b[0;34m)\u001b[0m\u001b[0;34m)\u001b[0m\u001b[0;34m\u001b[0m\u001b[0;34m\u001b[0m\u001b[0m\n\u001b[0m\u001b[1;32m      2\u001b[0m \u001b[0mplt\u001b[0m\u001b[0;34m.\u001b[0m\u001b[0mscatter\u001b[0m\u001b[0;34m(\u001b[0m\u001b[0mlist\u001b[0m\u001b[0;34m(\u001b[0m\u001b[0maccuracy\u001b[0m\u001b[0;34m.\u001b[0m\u001b[0mkeys\u001b[0m\u001b[0;34m(\u001b[0m\u001b[0;34m)\u001b[0m\u001b[0;34m)\u001b[0m\u001b[0;34m,\u001b[0m \u001b[0mlist\u001b[0m\u001b[0;34m(\u001b[0m\u001b[0maccuracy\u001b[0m\u001b[0;34m.\u001b[0m\u001b[0mvalues\u001b[0m\u001b[0;34m(\u001b[0m\u001b[0;34m)\u001b[0m\u001b[0;34m)\u001b[0m\u001b[0;34m)\u001b[0m\u001b[0;34m\u001b[0m\u001b[0;34m\u001b[0m\u001b[0m\n\u001b[1;32m      3\u001b[0m \u001b[0mplt\u001b[0m\u001b[0;34m.\u001b[0m\u001b[0mxlabel\u001b[0m\u001b[0;34m(\u001b[0m\u001b[0;34m\"Number of Augmentations\"\u001b[0m\u001b[0;34m)\u001b[0m\u001b[0;34m\u001b[0m\u001b[0;34m\u001b[0m\u001b[0m\n\u001b[1;32m      4\u001b[0m \u001b[0mplt\u001b[0m\u001b[0;34m.\u001b[0m\u001b[0mylabel\u001b[0m\u001b[0;34m(\u001b[0m\u001b[0;34m\"Accuracy\"\u001b[0m\u001b[0;34m)\u001b[0m\u001b[0;34m\u001b[0m\u001b[0;34m\u001b[0m\u001b[0m\n",
            "\u001b[0;31mNameError\u001b[0m: name 'plt' is not defined"
          ]
        }
      ]
    },
    {
      "cell_type": "markdown",
      "source": [
        "# **ANSWER FOR QUESTION:03**"
      ],
      "metadata": {
        "id": "6w2Xzas0D5Xk"
      }
    },
    {
      "cell_type": "code",
      "source": [
        "from skimage.util import random_noise\n",
        "def noise(image, factor):\n",
        "  alpha = factor ** 2\n",
        "  image = random_noise(image,var=alpha**2)\n",
        "  return image\n",
        "\n",
        "def augNoise(sample, noiseconstraint):\n",
        "  if noiseconstraint==0:\n",
        "    return sample\n",
        "  if len(sample.shape)==2:\n",
        "    sample = np.expand_dims(sample, 0)\n",
        "  amt = rng.random(len(sample))\n",
        "  amt = (amt)*noiseconstraint\n",
        "  nsample = sample.copy()\n",
        "  for ii in range(len(sample)):\n",
        "    nsample[ii] = noise(sample[ii], amt[ii])\n",
        "  return np.squeeze(nsample)\n",
        "\n",
        "def findAccNoise(noiseconstraints, naugmentations):\n",
        "  # create the augmented dataset\n",
        "  augdata = train_X # we include the original images also in the augmented dataset\n",
        "  auglabel = train_y\n",
        "  for jj in range(naugmentations):\n",
        "    augdata = np.concatenate((augdata, augNoise(train_X, noiseconstraints))) # concatenate the augmented data to the set\n",
        "    auglabel = np.concatenate((auglabel, train_y))  # the labels don't change when we augment\n",
        "  testpred = NN(augdata, auglabel, test_X)\n",
        "  return Accuracy(test_y, testpred)\n",
        "\n",
        "#for 0.8 we got highest accuracy so lets try for different augmentation using this value only as constraint\n",
        "noiseconstraints = [0, 0.1, 0.2, 0.4, 0.6, 0.8, 1.0, 1.2, 1.4, 1.6]\n",
        "naugmentations = 5\n",
        "accuracy = []\n",
        "for i in noiseconstraints:\n",
        "  accuracy.append(findAccNoise(i, naugmentations))\n",
        "# accuracy = {}\n",
        "# for i in range(naugmentations):\n",
        "#   for j in range(i):\n",
        "#     accuracy[i] = findAccNoise(noiseconstraints,j)\n"
      ],
      "metadata": {
        "id": "cOFKNjWZEKcV",
        "outputId": "b715847d-be39-418b-a0ce-9571704a6b97",
        "colab": {
          "base_uri": "https://localhost:8080/",
          "height": 356
        }
      },
      "execution_count": 11,
      "outputs": [
        {
          "output_type": "error",
          "ename": "NameError",
          "evalue": "ignored",
          "traceback": [
            "\u001b[0;31m---------------------------------------------------------------------------\u001b[0m",
            "\u001b[0;31mNameError\u001b[0m                                 Traceback (most recent call last)",
            "\u001b[0;32m<ipython-input-11-6b81d0a6c9b2>\u001b[0m in \u001b[0;36m<cell line: 33>\u001b[0;34m()\u001b[0m\n\u001b[1;32m     32\u001b[0m \u001b[0maccuracy\u001b[0m \u001b[0;34m=\u001b[0m \u001b[0;34m[\u001b[0m\u001b[0;34m]\u001b[0m\u001b[0;34m\u001b[0m\u001b[0;34m\u001b[0m\u001b[0m\n\u001b[1;32m     33\u001b[0m \u001b[0;32mfor\u001b[0m \u001b[0mi\u001b[0m \u001b[0;32min\u001b[0m \u001b[0mnoiseconstraints\u001b[0m\u001b[0;34m:\u001b[0m\u001b[0;34m\u001b[0m\u001b[0;34m\u001b[0m\u001b[0m\n\u001b[0;32m---> 34\u001b[0;31m   \u001b[0maccuracy\u001b[0m\u001b[0;34m.\u001b[0m\u001b[0mappend\u001b[0m\u001b[0;34m(\u001b[0m\u001b[0mfindAccNoise\u001b[0m\u001b[0;34m(\u001b[0m\u001b[0mi\u001b[0m\u001b[0;34m,\u001b[0m \u001b[0mnaugmentations\u001b[0m\u001b[0;34m)\u001b[0m\u001b[0;34m)\u001b[0m\u001b[0;34m\u001b[0m\u001b[0;34m\u001b[0m\u001b[0m\n\u001b[0m\u001b[1;32m     35\u001b[0m \u001b[0;31m# accuracy = {}\u001b[0m\u001b[0;34m\u001b[0m\u001b[0;34m\u001b[0m\u001b[0m\n\u001b[1;32m     36\u001b[0m \u001b[0;31m# for i in range(naugmentations):\u001b[0m\u001b[0;34m\u001b[0m\u001b[0;34m\u001b[0m\u001b[0m\n",
            "\u001b[0;32m<ipython-input-11-6b81d0a6c9b2>\u001b[0m in \u001b[0;36mfindAccNoise\u001b[0;34m(noiseconstraints, naugmentations)\u001b[0m\n\u001b[1;32m     19\u001b[0m \u001b[0;32mdef\u001b[0m \u001b[0mfindAccNoise\u001b[0m\u001b[0;34m(\u001b[0m\u001b[0mnoiseconstraints\u001b[0m\u001b[0;34m,\u001b[0m \u001b[0mnaugmentations\u001b[0m\u001b[0;34m)\u001b[0m\u001b[0;34m:\u001b[0m\u001b[0;34m\u001b[0m\u001b[0;34m\u001b[0m\u001b[0m\n\u001b[1;32m     20\u001b[0m   \u001b[0;31m# create the augmented dataset\u001b[0m\u001b[0;34m\u001b[0m\u001b[0;34m\u001b[0m\u001b[0m\n\u001b[0;32m---> 21\u001b[0;31m   \u001b[0maugdata\u001b[0m \u001b[0;34m=\u001b[0m \u001b[0mtrain_X\u001b[0m \u001b[0;31m# we include the original images also in the augmented dataset\u001b[0m\u001b[0;34m\u001b[0m\u001b[0;34m\u001b[0m\u001b[0m\n\u001b[0m\u001b[1;32m     22\u001b[0m   \u001b[0mauglabel\u001b[0m \u001b[0;34m=\u001b[0m \u001b[0mtrain_y\u001b[0m\u001b[0;34m\u001b[0m\u001b[0;34m\u001b[0m\u001b[0m\n\u001b[1;32m     23\u001b[0m   \u001b[0;32mfor\u001b[0m \u001b[0mjj\u001b[0m \u001b[0;32min\u001b[0m \u001b[0mrange\u001b[0m\u001b[0;34m(\u001b[0m\u001b[0mnaugmentations\u001b[0m\u001b[0;34m)\u001b[0m\u001b[0;34m:\u001b[0m\u001b[0;34m\u001b[0m\u001b[0;34m\u001b[0m\u001b[0m\n",
            "\u001b[0;31mNameError\u001b[0m: name 'train_X' is not defined"
          ]
        }
      ]
    },
    {
      "cell_type": "code",
      "source": [
        "plt.plot(noiseconstraints, accuracy)\n",
        "plt.scatter(noiseconstraints, accuracy)\n",
        "plt.xlabel(\"Constraint values\")\n",
        "plt.ylabel(\"Accuracy\")\n"
      ],
      "metadata": {
        "id": "nkBdkmBIEhVA",
        "outputId": "7c8f6f85-0716-47be-8287-1f528d06c16f",
        "colab": {
          "base_uri": "https://localhost:8080/",
          "height": 217
        }
      },
      "execution_count": 12,
      "outputs": [
        {
          "output_type": "error",
          "ename": "NameError",
          "evalue": "ignored",
          "traceback": [
            "\u001b[0;31m---------------------------------------------------------------------------\u001b[0m",
            "\u001b[0;31mNameError\u001b[0m                                 Traceback (most recent call last)",
            "\u001b[0;32m<ipython-input-12-85a5171c0257>\u001b[0m in \u001b[0;36m<cell line: 1>\u001b[0;34m()\u001b[0m\n\u001b[0;32m----> 1\u001b[0;31m \u001b[0mplt\u001b[0m\u001b[0;34m.\u001b[0m\u001b[0mplot\u001b[0m\u001b[0;34m(\u001b[0m\u001b[0mnoiseconstraints\u001b[0m\u001b[0;34m,\u001b[0m \u001b[0maccuracy\u001b[0m\u001b[0;34m)\u001b[0m\u001b[0;34m\u001b[0m\u001b[0;34m\u001b[0m\u001b[0m\n\u001b[0m\u001b[1;32m      2\u001b[0m \u001b[0mplt\u001b[0m\u001b[0;34m.\u001b[0m\u001b[0mscatter\u001b[0m\u001b[0;34m(\u001b[0m\u001b[0mnoiseconstraints\u001b[0m\u001b[0;34m,\u001b[0m \u001b[0maccuracy\u001b[0m\u001b[0;34m)\u001b[0m\u001b[0;34m\u001b[0m\u001b[0;34m\u001b[0m\u001b[0m\n\u001b[1;32m      3\u001b[0m \u001b[0mplt\u001b[0m\u001b[0;34m.\u001b[0m\u001b[0mxlabel\u001b[0m\u001b[0;34m(\u001b[0m\u001b[0;34m\"Constraint values\"\u001b[0m\u001b[0;34m)\u001b[0m\u001b[0;34m\u001b[0m\u001b[0;34m\u001b[0m\u001b[0m\n\u001b[1;32m      4\u001b[0m \u001b[0mplt\u001b[0m\u001b[0;34m.\u001b[0m\u001b[0mylabel\u001b[0m\u001b[0;34m(\u001b[0m\u001b[0;34m\"Accuracy\"\u001b[0m\u001b[0;34m)\u001b[0m\u001b[0;34m\u001b[0m\u001b[0;34m\u001b[0m\u001b[0m\n",
            "\u001b[0;31mNameError\u001b[0m: name 'plt' is not defined"
          ]
        }
      ]
    },
    {
      "cell_type": "code",
      "source": [
        "accuracy = {}\n",
        "naugmentations = 10\n",
        "noiseconstraints = 0.2\n",
        "for i in range(naugmentations):\n",
        "  for j in range(i):\n",
        "    accuracy[i] = findAccNoise(noiseconstraints,j)"
      ],
      "metadata": {
        "id": "gCMWswBaErM0",
        "outputId": "2c952848-b5af-404f-ee05-24539e3ea054",
        "colab": {
          "base_uri": "https://localhost:8080/",
          "height": 321
        }
      },
      "execution_count": 13,
      "outputs": [
        {
          "output_type": "error",
          "ename": "NameError",
          "evalue": "ignored",
          "traceback": [
            "\u001b[0;31m---------------------------------------------------------------------------\u001b[0m",
            "\u001b[0;31mNameError\u001b[0m                                 Traceback (most recent call last)",
            "\u001b[0;32m<ipython-input-13-a41d4c591bf4>\u001b[0m in \u001b[0;36m<cell line: 4>\u001b[0;34m()\u001b[0m\n\u001b[1;32m      4\u001b[0m \u001b[0;32mfor\u001b[0m \u001b[0mi\u001b[0m \u001b[0;32min\u001b[0m \u001b[0mrange\u001b[0m\u001b[0;34m(\u001b[0m\u001b[0mnaugmentations\u001b[0m\u001b[0;34m)\u001b[0m\u001b[0;34m:\u001b[0m\u001b[0;34m\u001b[0m\u001b[0;34m\u001b[0m\u001b[0m\n\u001b[1;32m      5\u001b[0m   \u001b[0;32mfor\u001b[0m \u001b[0mj\u001b[0m \u001b[0;32min\u001b[0m \u001b[0mrange\u001b[0m\u001b[0;34m(\u001b[0m\u001b[0mi\u001b[0m\u001b[0;34m)\u001b[0m\u001b[0;34m:\u001b[0m\u001b[0;34m\u001b[0m\u001b[0;34m\u001b[0m\u001b[0m\n\u001b[0;32m----> 6\u001b[0;31m     \u001b[0maccuracy\u001b[0m\u001b[0;34m[\u001b[0m\u001b[0mi\u001b[0m\u001b[0;34m]\u001b[0m \u001b[0;34m=\u001b[0m \u001b[0mfindAccNoise\u001b[0m\u001b[0;34m(\u001b[0m\u001b[0mnoiseconstraints\u001b[0m\u001b[0;34m,\u001b[0m\u001b[0mj\u001b[0m\u001b[0;34m)\u001b[0m\u001b[0;34m\u001b[0m\u001b[0;34m\u001b[0m\u001b[0m\n\u001b[0m",
            "\u001b[0;32m<ipython-input-11-6b81d0a6c9b2>\u001b[0m in \u001b[0;36mfindAccNoise\u001b[0;34m(noiseconstraints, naugmentations)\u001b[0m\n\u001b[1;32m     19\u001b[0m \u001b[0;32mdef\u001b[0m \u001b[0mfindAccNoise\u001b[0m\u001b[0;34m(\u001b[0m\u001b[0mnoiseconstraints\u001b[0m\u001b[0;34m,\u001b[0m \u001b[0mnaugmentations\u001b[0m\u001b[0;34m)\u001b[0m\u001b[0;34m:\u001b[0m\u001b[0;34m\u001b[0m\u001b[0;34m\u001b[0m\u001b[0m\n\u001b[1;32m     20\u001b[0m   \u001b[0;31m# create the augmented dataset\u001b[0m\u001b[0;34m\u001b[0m\u001b[0;34m\u001b[0m\u001b[0m\n\u001b[0;32m---> 21\u001b[0;31m   \u001b[0maugdata\u001b[0m \u001b[0;34m=\u001b[0m \u001b[0mtrain_X\u001b[0m \u001b[0;31m# we include the original images also in the augmented dataset\u001b[0m\u001b[0;34m\u001b[0m\u001b[0;34m\u001b[0m\u001b[0m\n\u001b[0m\u001b[1;32m     22\u001b[0m   \u001b[0mauglabel\u001b[0m \u001b[0;34m=\u001b[0m \u001b[0mtrain_y\u001b[0m\u001b[0;34m\u001b[0m\u001b[0;34m\u001b[0m\u001b[0m\n\u001b[1;32m     23\u001b[0m   \u001b[0;32mfor\u001b[0m \u001b[0mjj\u001b[0m \u001b[0;32min\u001b[0m \u001b[0mrange\u001b[0m\u001b[0;34m(\u001b[0m\u001b[0mnaugmentations\u001b[0m\u001b[0;34m)\u001b[0m\u001b[0;34m:\u001b[0m\u001b[0;34m\u001b[0m\u001b[0;34m\u001b[0m\u001b[0m\n",
            "\u001b[0;31mNameError\u001b[0m: name 'train_X' is not defined"
          ]
        }
      ]
    },
    {
      "cell_type": "code",
      "source": [
        "plt.plot(list(accuracy.keys()), list(accuracy.values()))\n",
        "plt.scatter(list(accuracy.keys()), list(accuracy.values()))\n",
        "plt.xlabel(\"Number of Augmentations\")\n",
        "plt.ylabel(\"Accuracy\")\n"
      ],
      "metadata": {
        "id": "qdcv1s6jFQcX",
        "outputId": "6bc531b4-2de5-442f-815e-dd61281e051a",
        "colab": {
          "base_uri": "https://localhost:8080/",
          "height": 217
        }
      },
      "execution_count": 14,
      "outputs": [
        {
          "output_type": "error",
          "ename": "NameError",
          "evalue": "ignored",
          "traceback": [
            "\u001b[0;31m---------------------------------------------------------------------------\u001b[0m",
            "\u001b[0;31mNameError\u001b[0m                                 Traceback (most recent call last)",
            "\u001b[0;32m<ipython-input-14-21db0fb57b2b>\u001b[0m in \u001b[0;36m<cell line: 1>\u001b[0;34m()\u001b[0m\n\u001b[0;32m----> 1\u001b[0;31m \u001b[0mplt\u001b[0m\u001b[0;34m.\u001b[0m\u001b[0mplot\u001b[0m\u001b[0;34m(\u001b[0m\u001b[0mlist\u001b[0m\u001b[0;34m(\u001b[0m\u001b[0maccuracy\u001b[0m\u001b[0;34m.\u001b[0m\u001b[0mkeys\u001b[0m\u001b[0;34m(\u001b[0m\u001b[0;34m)\u001b[0m\u001b[0;34m)\u001b[0m\u001b[0;34m,\u001b[0m \u001b[0mlist\u001b[0m\u001b[0;34m(\u001b[0m\u001b[0maccuracy\u001b[0m\u001b[0;34m.\u001b[0m\u001b[0mvalues\u001b[0m\u001b[0;34m(\u001b[0m\u001b[0;34m)\u001b[0m\u001b[0;34m)\u001b[0m\u001b[0;34m)\u001b[0m\u001b[0;34m\u001b[0m\u001b[0;34m\u001b[0m\u001b[0m\n\u001b[0m\u001b[1;32m      2\u001b[0m \u001b[0mplt\u001b[0m\u001b[0;34m.\u001b[0m\u001b[0mscatter\u001b[0m\u001b[0;34m(\u001b[0m\u001b[0mlist\u001b[0m\u001b[0;34m(\u001b[0m\u001b[0maccuracy\u001b[0m\u001b[0;34m.\u001b[0m\u001b[0mkeys\u001b[0m\u001b[0;34m(\u001b[0m\u001b[0;34m)\u001b[0m\u001b[0;34m)\u001b[0m\u001b[0;34m,\u001b[0m \u001b[0mlist\u001b[0m\u001b[0;34m(\u001b[0m\u001b[0maccuracy\u001b[0m\u001b[0;34m.\u001b[0m\u001b[0mvalues\u001b[0m\u001b[0;34m(\u001b[0m\u001b[0;34m)\u001b[0m\u001b[0;34m)\u001b[0m\u001b[0;34m)\u001b[0m\u001b[0;34m\u001b[0m\u001b[0;34m\u001b[0m\u001b[0m\n\u001b[1;32m      3\u001b[0m \u001b[0mplt\u001b[0m\u001b[0;34m.\u001b[0m\u001b[0mxlabel\u001b[0m\u001b[0;34m(\u001b[0m\u001b[0;34m\"Number of Augmentations\"\u001b[0m\u001b[0;34m)\u001b[0m\u001b[0;34m\u001b[0m\u001b[0;34m\u001b[0m\u001b[0m\n\u001b[1;32m      4\u001b[0m \u001b[0mplt\u001b[0m\u001b[0;34m.\u001b[0m\u001b[0mylabel\u001b[0m\u001b[0;34m(\u001b[0m\u001b[0;34m\"Accuracy\"\u001b[0m\u001b[0;34m)\u001b[0m\u001b[0;34m\u001b[0m\u001b[0;34m\u001b[0m\u001b[0m\n",
            "\u001b[0;31mNameError\u001b[0m: name 'plt' is not defined"
          ]
        }
      ]
    },
    {
      "cell_type": "markdown",
      "source": [
        "# **ANSWER FOR QUESTON:04**"
      ],
      "metadata": {
        "id": "QOO1VhsgFc2r"
      }
    },
    {
      "cell_type": "markdown",
      "source": [
        "General function to make augmented dataset with 2 features to augment\n",
        "\n"
      ],
      "metadata": {
        "id": "OLClZ2ExFrzm"
      }
    },
    {
      "cell_type": "code",
      "source": [
        "def combinations(sample, angfun1param, angfun2param, augfun1, augfun2):\n",
        "  if len(sample.shape)==2:\n",
        "    sample = np.expand_dims(sample, 0)  # make sure the sample is 3 dimensional\n",
        "  augfun2val = rng.random(len(sample)) # generate random numbers for shear\n",
        "  augfun2val = (augfun2val-0.5)*angfun2param # make the random shear constrained\n",
        "  augfun1val = rng.random(len(sample)) # generate random numbers for angles\n",
        "  augfun1val = (augfun1val-0.5)*angfun1param # make the random angle constrained\n",
        "  nsample = sample.copy() # preallocate the augmented array to make it faster\n",
        "  for ii in range(len(sample)):\n",
        "    nsample[ii] = augfun1(augfun2(sample[ii], augfun2val[ii]), augfun1val[ii]) # first apply shear, then rotate\n",
        "  return np.squeeze(nsample) # take care if the input had only one sample."
      ],
      "metadata": {
        "id": "POAVxDweFvru"
      },
      "execution_count": 15,
      "outputs": []
    },
    {
      "cell_type": "code",
      "source": [
        "shearconstraints =[0,0.75,1.5] # the values we want to test\n",
        "angleconstraints =[30] # the values we want to test\n",
        "noiseconstraints = [0, 0.1,1.0,1.6]\n",
        "hyp1 = list(cartesian((angleconstraints, shearconstraints)))\n",
        "hyp2 = list(cartesian((noiseconstraints, shearconstraints)))\n",
        "hyp3 = list(cartesian((angleconstraints, noiseconstraints)))\n",
        "\n",
        "def combinationsValGen(augfun1, augfun2, hyp):\n",
        "  accuracies = np.zeros(len(hyp), dtype=np.float) # we will save the values here\n",
        "\n",
        "  for ii in range(len(hyp)):\n",
        "    # create the augmented dataset\n",
        "    augdata = train_X # we include the original images also in the augmented dataset\n",
        "    auglabel = train_y\n",
        "    for jj in range(naugmentations):\n",
        "      augdata = np.concatenate((augdata, combinations(train_X, hyp[ii][0], hyp[ii][1], augfun1, augfun2))) # concatenate the augmented data to the set\n",
        "      auglabel = np.concatenate((auglabel, train_y))  # the labels don't change when we augment\n",
        "\n",
        "    # check the test accuracy\n",
        "    testpred = NN(augdata, auglabel, test_X)\n",
        "    accuracies[ii] = Accuracy(test_y, testpred)\n",
        "  return accuracies\n",
        "accuracy1 = combinationsValGen(shear, rotate,hyp1)\n",
        "accuracy2 = combinationsValGen(shear, noise, hyp2)\n",
        "accuracy3 = combinationsValGen(noise, rotate, hyp3)\n"
      ],
      "metadata": {
        "id": "fHE_-ZWAGClz",
        "outputId": "83b8b218-4a31-4e2c-e74d-b7ce2ab86f41",
        "colab": {
          "base_uri": "https://localhost:8080/"
        }
      },
      "execution_count": null,
      "outputs": [
        {
          "metadata": {
            "tags": null
          },
          "name": "stderr",
          "output_type": "stream",
          "text": [
            "/usr/local/lib/python3.7/dist-packages/ipykernel_launcher.py:9: DeprecationWarning: `np.float` is a deprecated alias for the builtin `float`. To silence this warning, use `float` by itself. Doing this will not modify any behavior and is safe. If you specifically wanted the numpy scalar type, use `np.float64` here.\n",
            "Deprecated in NumPy 1.20; for more details and guidance: https://numpy.org/devdocs/release/1.20.0-notes.html#deprecations\n",
            "  if __name__ == '__main__':\n"
          ]
        }
      ]
    },
    {
      "cell_type": "code",
      "source": [
        "shearandrotateacc = max(accuracy1)\n",
        "shearandnoiseacc = max(accuracy2)\n",
        "rotatendnoiseacc = max(accuracy3)\n"
      ],
      "metadata": {
        "id": "-FvqS6W3GoCV"
      },
      "execution_count": null,
      "outputs": []
    },
    {
      "cell_type": "code",
      "source": [
        "print(shearandrotateacc, shearandnoiseacc, rotatendnoiseacc)\n",
        "# 0.6215 0.6632 0.6464 obtained values\n"
      ],
      "metadata": {
        "id": "syWA3YpPGv5B",
        "outputId": "7d67f8d2-698d-40a3-d4ea-fd20b983198a",
        "colab": {
          "base_uri": "https://localhost:8080/"
        }
      },
      "execution_count": null,
      "outputs": [
        {
          "output_type": "stream",
          "name": "stdout",
          "text": [
            "0.6103 0.6657 0.648\n"
          ]
        }
      ]
    },
    {
      "cell_type": "markdown",
      "source": [
        "Function to calculate augmentated dataset for 3 features"
      ],
      "metadata": {
        "id": "Gk19-wcaG3rh"
      }
    },
    {
      "cell_type": "code",
      "source": [
        "def combinationstri(sample, angfun1param, angfun2param,augfun3param, augfun1, augfun2, augfun3):\n",
        "  if len(sample.shape)==2:\n",
        "    sample = np.expand_dims(sample, 0)  # make sure the sample is 3 dimensional\n",
        "  augfun2val = rng.random(len(sample)) # generate random numbers for shear\n",
        "  augfun2val = (augfun2val-0.5)*angfun2param # make the random shear constrained\n",
        "  augfun1val = rng.random(len(sample)) # generate random numbers for angles\n",
        "  augfun1val = (augfun1val-0.5)*angfun1param # make the random angle constrained\n",
        "  augfun3val = rng.random(len(sample))\n",
        "  augfun3val = (augfun3val-0.5)*augfun3param\n",
        "  nsample = sample.copy() # preallocate the augmented array to make it faster\n",
        "  for ii in range(len(sample)):\n",
        "    nsample[ii] = augfun1(augfun2(augfun3(sample[ii], augfun3val[ii]), augfun2val[ii]), augfun1val[ii]) # first apply shear, then rotate\n",
        "  return np.squeeze(nsample) # take care if the input had only one sample.\n"
      ],
      "metadata": {
        "id": "FbKdUM5AG6Cf"
      },
      "execution_count": null,
      "outputs": []
    },
    {
      "cell_type": "markdown",
      "source": [
        "Function to find accuracy for dataset with 3 augmented featues\n",
        "\n"
      ],
      "metadata": {
        "id": "1Dn6RnM0HHiQ"
      }
    },
    {
      "cell_type": "code",
      "source": [
        "def combinationsValGenTri(augfun1, augfun2, augfun3):\n",
        "\n",
        "  # create the augmented dataset\n",
        "  augdata = train_X # we include the original images also in the augmented dataset\n",
        "  auglabel = train_y\n",
        "  for jj in range(naugmentations):\n",
        "    augdata = np.concatenate((augdata, combinationstri(train_X, 30, 0.75,1.6, augfun1, augfun2, augfun3))) # concatenate the augmented data to the set\n",
        "    auglabel = np.concatenate((auglabel, train_y))  # the labels don't change when we augment\n",
        "\n",
        "  # check the test accuracy\n",
        "  testpred = NN(augdata, auglabel, test_X)\n",
        "  accuracies = Accuracy(test_y, testpred)\n",
        "  return accuracies\n"
      ],
      "metadata": {
        "id": "mZ7wMAtaHaiw"
      },
      "execution_count": null,
      "outputs": []
    },
    {
      "cell_type": "code",
      "source": [
        "accuracyall3 = combinationsValGenTri(rotate, shear, noise)\n",
        "print(shearandrotateacc, shearandnoiseacc, rotatendnoiseacc,accuracyall3)\n",
        "# 0.6215 0.6632 0.6464 0.6449 obtained values"
      ],
      "metadata": {
        "id": "vIAu4TFUHkMP"
      },
      "execution_count": null,
      "outputs": []
    },
    {
      "cell_type": "markdown",
      "source": [
        "the best combination here that we obtained is from shear and noise combined and then the other one was noise and rotation.\n",
        "\n",
        "Now lets try to find the train dataset size and augmentation relationship"
      ],
      "metadata": {
        "id": "7fZWMPuLHzP5"
      }
    },
    {
      "cell_type": "code",
      "source": [
        "(train_X, train_y), (test_X, test_y) = mnist.load_data()\n",
        "train_X = train_X/255\n",
        "test_X = test_X/255"
      ],
      "metadata": {
        "id": "-6CodzFtH9tJ"
      },
      "execution_count": null,
      "outputs": []
    },
    {
      "cell_type": "code",
      "source": [
        "def combinationsfinal(sample, angfun1param, angfun2param, augfun1, augfun2):\n",
        "  if len(sample.shape)==2:\n",
        "    sample = np.expand_dims(sample, 0)  # make sure the sample is 3 dimensional\n",
        "  augfun2val = rng.random(len(sample)) # generate random numbers for shear\n",
        "  augfun2val = (augfun2val-0.5)*angfun2param # make the random shear constrained\n",
        "  augfun1val = rng.random(len(sample)) # generate random numbers for angles\n",
        "  augfun1val = (augfun1val-0.5)*angfun1param # make the random angle constrained\n",
        "  nsample = sample.copy() # preallocate the augmented array to make it faster\n",
        "  for ii in range(len(sample)):\n",
        "    nsample[ii] = augfun1(augfun2(sample[ii], augfun2val[ii]), augfun1val[ii]) # first apply shear, then rotate\n",
        "  return np.squeeze(nsample)\n"
      ],
      "metadata": {
        "id": "Unp2ZQJtIGWM"
      },
      "execution_count": null,
      "outputs": []
    },
    {
      "cell_type": "code",
      "source": [
        "def combinationsValGenfinal(augfun1, augfun2, train_X, train_y):\n",
        "\n",
        "  # create the augmented dataset\n",
        "  augdata = train_X # we include the original images also in the augmented dataset\n",
        "  auglabel = train_y\n",
        "  for jj in range(naugmentations):\n",
        "    augdata = np.concatenate((augdata, combinationsfinal(train_X, 0.75,1.6, augfun1, augfun2))) # concatenate the augmented data to the set\n",
        "    auglabel = np.concatenate((auglabel, train_y))  # the labels don't change when we augment\n",
        "\n",
        "  # check the test accuracy\n",
        "  testpred = NN(augdata, auglabel, test_X)\n",
        "  accuracies = Accuracy(test_y, testpred)\n",
        "  return accuracies"
      ],
      "metadata": {
        "id": "PPwQheYnIPBf"
      },
      "execution_count": null,
      "outputs": []
    },
    {
      "cell_type": "code",
      "source": [
        "traindictx = {}\n",
        "traindicty = {}\n",
        "accuracydict = {}\n",
        "for i in range(100, 1101, 100):\n",
        "  traindictx[i] = train_X[::i, :,:].copy()\n",
        "  traindicty[i] = train_y[::i].copy()\n",
        "  accuracydict[i] = combinationsValGenfinal(shear, noise,traindictx[i], traindicty[i])\n"
      ],
      "metadata": {
        "id": "sa2vpPOKLgRS"
      },
      "execution_count": null,
      "outputs": []
    },
    {
      "cell_type": "code",
      "source": [
        "accuracydict.keys()"
      ],
      "metadata": {
        "id": "38ckNbuQIdli",
        "outputId": "c679a2dc-fbb6-4e9f-83b3-85b31a490853",
        "colab": {
          "base_uri": "https://localhost:8080/"
        }
      },
      "execution_count": null,
      "outputs": [
        {
          "output_type": "execute_result",
          "data": {
            "text/plain": [
              "dict_keys([100, 200, 300, 400, 500, 600, 700, 800, 900, 1000, 1100])"
            ]
          },
          "metadata": {},
          "execution_count": 105
        }
      ]
    },
    {
      "cell_type": "code",
      "source": [
        "trainsize = []\n",
        "trainacc = []\n",
        "for i,j in accuracydict.items():\n",
        "  trainsize.append(i)\n",
        "  trainacc.append(j)"
      ],
      "metadata": {
        "id": "UgbrrleHKUAf"
      },
      "execution_count": null,
      "outputs": []
    },
    {
      "cell_type": "code",
      "source": [
        "plt.plot(trainsize, trainacc)\n",
        "plt.scatter(trainsize, trainacc)\n",
        "plt.show()"
      ],
      "metadata": {
        "id": "1dzgkZvJKyOW",
        "outputId": "1048937e-470f-4d6b-abf9-2871c2077c8c",
        "colab": {
          "base_uri": "https://localhost:8080/",
          "height": 265
        }
      },
      "execution_count": null,
      "outputs": [
        {
          "output_type": "display_data",
          "data": {
            "text/plain": [
              "<Figure size 432x288 with 1 Axes>"
            ],
            "image/png": "[encoded data removed]"
          },
          "metadata": {
            "needs_background": "light"
          }
        }
      ]
    },
    {
      "cell_type": "code",
      "source": [
        "def combinationsValGenfinal(augfun1, augfun2, train_X, train_y):\n",
        "\n",
        "  # create the augmented dataset\n",
        "  augdata = train_X # we include the original images also in the augmented dataset\n",
        "  auglabel = train_y\n",
        "  for jj in range(naugmentations):\n",
        "    augdata = np.concatenate((augdata, combinationsfinal(train_X, 30,1.6, augfun1, augfun2))) # concatenate the augmented data to the set\n",
        "    auglabel = np.concatenate((auglabel, train_y))  # the labels don't change when we augment\n",
        "\n",
        "  # check the test accuracy\n",
        "  testpred = NN(augdata, auglabel, test_X)\n",
        "  accuracies = Accuracy(test_y, testpred)\n",
        "  return accuracies\n"
      ],
      "metadata": {
        "id": "j8diWNQALLeO"
      },
      "execution_count": null,
      "outputs": []
    },
    {
      "cell_type": "code",
      "source": [
        "plt.plot(trainsize, trainacc)\n",
        "plt.scatter(trainsize, trainacc)\n",
        "plt.show()"
      ],
      "metadata": {
        "id": "fDXx50uhLYxQ",
        "outputId": "0698af76-9ec2-4ff3-8d18-8c6c8c9ab8d7",
        "colab": {
          "base_uri": "https://localhost:8080/",
          "height": 265
        }
      },
      "execution_count": null,
      "outputs": [
        {
          "output_type": "display_data",
          "data": {
            "text/plain": [
              "<Figure size 432x288 with 1 Axes>"
            ],
            "image/png": "[encoded data removed]"
          },
          "metadata": {
            "needs_background": "light"
          }
        }
      ]
    }
  ]
}